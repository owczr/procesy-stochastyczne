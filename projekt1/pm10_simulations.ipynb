{
  "cells": [
    {
      "cell_type": "markdown",
      "metadata": {
        "id": "wlTcUZiecuAQ"
      },
      "source": [
        "# PM10 Simulations for Podkarpacie"
      ]
    },
    {
      "cell_type": "markdown",
      "metadata": {
        "id": "CaHo9HBxczUV"
      },
      "source": [
        "Run these cells if this notebook is run on Google Colab"
      ]
    },
    {
      "cell_type": "code",
      "execution_count": 61,
      "metadata": {
        "colab": {
          "base_uri": "https://localhost:8080/"
        },
        "id": "u3txcN-2ySIf",
        "outputId": "d48d086b-f823-41a9-ca52-977351123849"
      },
      "outputs": [
        {
          "name": "stdout",
          "output_type": "stream",
          "text": [
            "Requirement already satisfied: unidecode in /usr/local/lib/python3.10/dist-packages (1.3.7)\n"
          ]
        }
      ],
      "source": [
        "# !pip install unidecode\n",
        "# !pip install scikit-gstat"
      ]
    },
    {
      "cell_type": "code",
      "execution_count": null,
      "metadata": {},
      "outputs": [],
      "source": [
        "# import os\n",
        "\n",
        "# from google.colab import drive\n",
        "\n",
        "# drive.mount('/content/drive')\n",
        "# os.chdir('/content/drive/MyDrive')"
      ]
    },
    {
      "cell_type": "markdown",
      "metadata": {
        "id": "6_fUUaI6dJZ_"
      },
      "source": [
        "Mount this colab notebook to your drive and change the directory to it. Within you should have the following files:\n",
        "- **pm10.csv**\n",
        "- **zipfolder** with:\n",
        "  - Wszystkie.cpg\n",
        "  - Wszystkie.dbf\n",
        "  - Wszystkie.prj\n",
        "  - Wszystkie.sbn\n",
        "  - Wszystkie.sbx\n",
        "  - Wszystkie.shp\n",
        "  - Wszystkie.shx\n"
      ]
    },
    {
      "cell_type": "markdown",
      "metadata": {
        "id": "IH1RnWLbc7Et"
      },
      "source": [
        "This is a list of cities in Podkarpacie voivodeship that we will use for our simulations"
      ]
    },
    {
      "cell_type": "code",
      "execution_count": 58,
      "metadata": {
        "id": "iWZBvHtEwF3A"
      },
      "outputs": [],
      "source": [
        "cities = [\n",
        "    'Tarnobrzeg',\n",
        "    'Sanok',\n",
        "    'Rzeszow',\n",
        "    'Rymanow',\n",
        "    'Przemysl',\n",
        "    'Nisko',\n",
        "    'Mielec',\n",
        "    'Krosno',\n",
        "    'Jaslo',\n",
        "    'Jaroslaw',\n",
        "    'Debica',\n",
        "    'Jedlicze'\n",
        " ]"
      ]
    },
    {
      "cell_type": "markdown",
      "metadata": {
        "id": "Tr_WquOhdrUs"
      },
      "source": [
        "## PM10 DataFrame Preprocessing"
      ]
    },
    {
      "cell_type": "code",
      "execution_count": 55,
      "metadata": {
        "id": "5KLrO-_LwF27"
      },
      "outputs": [],
      "source": [
        "import pandas as pd\n",
        "\n",
        "pm10_df = pd.read_csv('pm10.csv', index_col=0)"
      ]
    },
    {
      "cell_type": "markdown",
      "metadata": {
        "id": "z0PAVqw-dvyq"
      },
      "source": [
        "Let's take a look at our dataset"
      ]
    },
    {
      "cell_type": "code",
      "execution_count": 56,
      "metadata": {
        "colab": {
          "base_uri": "https://localhost:8080/",
          "height": 400
        },
        "id": "VdT-yKxzwF29",
        "outputId": "b9d02058-cb48-4ab4-d3a1-7ad3c4f70e09"
      },
      "outputs": [
        {
          "data": {
            "text/html": [
              "\n",
              "  <div id=\"df-37e0e06e-a393-4d69-8227-6f65cc4ce275\" class=\"colab-df-container\">\n",
              "    <div>\n",
              "<style scoped>\n",
              "    .dataframe tbody tr th:only-of-type {\n",
              "        vertical-align: middle;\n",
              "    }\n",
              "\n",
              "    .dataframe tbody tr th {\n",
              "        vertical-align: top;\n",
              "    }\n",
              "\n",
              "    .dataframe thead th {\n",
              "        text-align: right;\n",
              "    }\n",
              "</style>\n",
              "<table border=\"1\" class=\"dataframe\">\n",
              "  <thead>\n",
              "    <tr style=\"text-align: right;\">\n",
              "      <th></th>\n",
              "      <th>Data</th>\n",
              "      <th>Tarnobrzeg</th>\n",
              "      <th>Sanok</th>\n",
              "      <th>Rzeszow_Rejtana</th>\n",
              "      <th>Rzeszow_Pilsudskiego</th>\n",
              "      <th>Rymanow_Zdroj</th>\n",
              "      <th>Przemysl</th>\n",
              "      <th>Nisko</th>\n",
              "      <th>Mielec</th>\n",
              "      <th>Krosno</th>\n",
              "      <th>Jaslo</th>\n",
              "      <th>Jaroslaw</th>\n",
              "      <th>Debica</th>\n",
              "      <th>Rzeszow_Starzynskiego</th>\n",
              "      <th>Rzeszow_Slocinska</th>\n",
              "      <th>Jedlicze</th>\n",
              "    </tr>\n",
              "  </thead>\n",
              "  <tbody>\n",
              "    <tr>\n",
              "      <th>0</th>\n",
              "      <td>2022-12-22 01:00</td>\n",
              "      <td>37.3</td>\n",
              "      <td>23.6</td>\n",
              "      <td>19.9</td>\n",
              "      <td>26.6</td>\n",
              "      <td>14.2</td>\n",
              "      <td>21.5</td>\n",
              "      <td>29.9</td>\n",
              "      <td>26.9</td>\n",
              "      <td>12.7</td>\n",
              "      <td>20.8</td>\n",
              "      <td>26.5</td>\n",
              "      <td>19.2</td>\n",
              "      <td>NaN</td>\n",
              "      <td>NaN</td>\n",
              "      <td>NaN</td>\n",
              "    </tr>\n",
              "    <tr>\n",
              "      <th>1</th>\n",
              "      <td>2022-12-22 02:00</td>\n",
              "      <td>32.0</td>\n",
              "      <td>24.8</td>\n",
              "      <td>17.8</td>\n",
              "      <td>25.3</td>\n",
              "      <td>14.9</td>\n",
              "      <td>19.6</td>\n",
              "      <td>28.5</td>\n",
              "      <td>26.9</td>\n",
              "      <td>14.8</td>\n",
              "      <td>17.8</td>\n",
              "      <td>29.2</td>\n",
              "      <td>26.5</td>\n",
              "      <td>NaN</td>\n",
              "      <td>NaN</td>\n",
              "      <td>NaN</td>\n",
              "    </tr>\n",
              "    <tr>\n",
              "      <th>2</th>\n",
              "      <td>2022-12-22 03:00</td>\n",
              "      <td>29.4</td>\n",
              "      <td>21.1</td>\n",
              "      <td>20.1</td>\n",
              "      <td>26.0</td>\n",
              "      <td>14.3</td>\n",
              "      <td>14.9</td>\n",
              "      <td>24.3</td>\n",
              "      <td>22.2</td>\n",
              "      <td>37.4</td>\n",
              "      <td>15.9</td>\n",
              "      <td>15.5</td>\n",
              "      <td>18.1</td>\n",
              "      <td>NaN</td>\n",
              "      <td>NaN</td>\n",
              "      <td>NaN</td>\n",
              "    </tr>\n",
              "    <tr>\n",
              "      <th>3</th>\n",
              "      <td>2022-12-22 04:00</td>\n",
              "      <td>24.6</td>\n",
              "      <td>24.0</td>\n",
              "      <td>20.4</td>\n",
              "      <td>23.8</td>\n",
              "      <td>14.0</td>\n",
              "      <td>11.5</td>\n",
              "      <td>25.0</td>\n",
              "      <td>19.9</td>\n",
              "      <td>58.8</td>\n",
              "      <td>17.4</td>\n",
              "      <td>10.3</td>\n",
              "      <td>16.3</td>\n",
              "      <td>NaN</td>\n",
              "      <td>NaN</td>\n",
              "      <td>NaN</td>\n",
              "    </tr>\n",
              "    <tr>\n",
              "      <th>4</th>\n",
              "      <td>2022-12-22 05:00</td>\n",
              "      <td>24.0</td>\n",
              "      <td>20.0</td>\n",
              "      <td>24.2</td>\n",
              "      <td>21.6</td>\n",
              "      <td>14.5</td>\n",
              "      <td>9.9</td>\n",
              "      <td>21.6</td>\n",
              "      <td>19.3</td>\n",
              "      <td>45.3</td>\n",
              "      <td>22.6</td>\n",
              "      <td>10.2</td>\n",
              "      <td>15.7</td>\n",
              "      <td>NaN</td>\n",
              "      <td>NaN</td>\n",
              "      <td>NaN</td>\n",
              "    </tr>\n",
              "  </tbody>\n",
              "</table>\n",
              "</div>\n",
              "    <div class=\"colab-df-buttons\">\n",
              "\n",
              "  <div class=\"colab-df-container\">\n",
              "    <button class=\"colab-df-convert\" onclick=\"convertToInteractive('df-37e0e06e-a393-4d69-8227-6f65cc4ce275')\"\n",
              "            title=\"Convert this dataframe to an interactive table.\"\n",
              "            style=\"display:none;\">\n",
              "\n",
              "  <svg xmlns=\"http://www.w3.org/2000/svg\" height=\"24px\" viewBox=\"0 -960 960 960\">\n",
              "    <path d=\"M120-120v-720h720v720H120Zm60-500h600v-160H180v160Zm220 220h160v-160H400v160Zm0 220h160v-160H400v160ZM180-400h160v-160H180v160Zm440 0h160v-160H620v160ZM180-180h160v-160H180v160Zm440 0h160v-160H620v160Z\"/>\n",
              "  </svg>\n",
              "    </button>\n",
              "\n",
              "  <style>\n",
              "    .colab-df-container {\n",
              "      display:flex;\n",
              "      gap: 12px;\n",
              "    }\n",
              "\n",
              "    .colab-df-convert {\n",
              "      background-color: #E8F0FE;\n",
              "      border: none;\n",
              "      border-radius: 50%;\n",
              "      cursor: pointer;\n",
              "      display: none;\n",
              "      fill: #1967D2;\n",
              "      height: 32px;\n",
              "      padding: 0 0 0 0;\n",
              "      width: 32px;\n",
              "    }\n",
              "\n",
              "    .colab-df-convert:hover {\n",
              "      background-color: #E2EBFA;\n",
              "      box-shadow: 0px 1px 2px rgba(60, 64, 67, 0.3), 0px 1px 3px 1px rgba(60, 64, 67, 0.15);\n",
              "      fill: #174EA6;\n",
              "    }\n",
              "\n",
              "    .colab-df-buttons div {\n",
              "      margin-bottom: 4px;\n",
              "    }\n",
              "\n",
              "    [theme=dark] .colab-df-convert {\n",
              "      background-color: #3B4455;\n",
              "      fill: #D2E3FC;\n",
              "    }\n",
              "\n",
              "    [theme=dark] .colab-df-convert:hover {\n",
              "      background-color: #434B5C;\n",
              "      box-shadow: 0px 1px 3px 1px rgba(0, 0, 0, 0.15);\n",
              "      filter: drop-shadow(0px 1px 2px rgba(0, 0, 0, 0.3));\n",
              "      fill: #FFFFFF;\n",
              "    }\n",
              "  </style>\n",
              "\n",
              "    <script>\n",
              "      const buttonEl =\n",
              "        document.querySelector('#df-37e0e06e-a393-4d69-8227-6f65cc4ce275 button.colab-df-convert');\n",
              "      buttonEl.style.display =\n",
              "        google.colab.kernel.accessAllowed ? 'block' : 'none';\n",
              "\n",
              "      async function convertToInteractive(key) {\n",
              "        const element = document.querySelector('#df-37e0e06e-a393-4d69-8227-6f65cc4ce275');\n",
              "        const dataTable =\n",
              "          await google.colab.kernel.invokeFunction('convertToInteractive',\n",
              "                                                    [key], {});\n",
              "        if (!dataTable) return;\n",
              "\n",
              "        const docLinkHtml = 'Like what you see? Visit the ' +\n",
              "          '<a target=\"_blank\" href=https://colab.research.google.com/notebooks/data_table.ipynb>data table notebook</a>'\n",
              "          + ' to learn more about interactive tables.';\n",
              "        element.innerHTML = '';\n",
              "        dataTable['output_type'] = 'display_data';\n",
              "        await google.colab.output.renderOutput(dataTable, element);\n",
              "        const docLink = document.createElement('div');\n",
              "        docLink.innerHTML = docLinkHtml;\n",
              "        element.appendChild(docLink);\n",
              "      }\n",
              "    </script>\n",
              "  </div>\n",
              "\n",
              "\n",
              "<div id=\"df-ae2ea3a5-2b0e-4095-8ee9-c2b2888558fe\">\n",
              "  <button class=\"colab-df-quickchart\" onclick=\"quickchart('df-ae2ea3a5-2b0e-4095-8ee9-c2b2888558fe')\"\n",
              "            title=\"Suggest charts\"\n",
              "            style=\"display:none;\">\n",
              "\n",
              "<svg xmlns=\"http://www.w3.org/2000/svg\" height=\"24px\"viewBox=\"0 0 24 24\"\n",
              "     width=\"24px\">\n",
              "    <g>\n",
              "        <path d=\"M19 3H5c-1.1 0-2 .9-2 2v14c0 1.1.9 2 2 2h14c1.1 0 2-.9 2-2V5c0-1.1-.9-2-2-2zM9 17H7v-7h2v7zm4 0h-2V7h2v10zm4 0h-2v-4h2v4z\"/>\n",
              "    </g>\n",
              "</svg>\n",
              "  </button>\n",
              "\n",
              "<style>\n",
              "  .colab-df-quickchart {\n",
              "      --bg-color: #E8F0FE;\n",
              "      --fill-color: #1967D2;\n",
              "      --hover-bg-color: #E2EBFA;\n",
              "      --hover-fill-color: #174EA6;\n",
              "      --disabled-fill-color: #AAA;\n",
              "      --disabled-bg-color: #DDD;\n",
              "  }\n",
              "\n",
              "  [theme=dark] .colab-df-quickchart {\n",
              "      --bg-color: #3B4455;\n",
              "      --fill-color: #D2E3FC;\n",
              "      --hover-bg-color: #434B5C;\n",
              "      --hover-fill-color: #FFFFFF;\n",
              "      --disabled-bg-color: #3B4455;\n",
              "      --disabled-fill-color: #666;\n",
              "  }\n",
              "\n",
              "  .colab-df-quickchart {\n",
              "    background-color: var(--bg-color);\n",
              "    border: none;\n",
              "    border-radius: 50%;\n",
              "    cursor: pointer;\n",
              "    display: none;\n",
              "    fill: var(--fill-color);\n",
              "    height: 32px;\n",
              "    padding: 0;\n",
              "    width: 32px;\n",
              "  }\n",
              "\n",
              "  .colab-df-quickchart:hover {\n",
              "    background-color: var(--hover-bg-color);\n",
              "    box-shadow: 0 1px 2px rgba(60, 64, 67, 0.3), 0 1px 3px 1px rgba(60, 64, 67, 0.15);\n",
              "    fill: var(--button-hover-fill-color);\n",
              "  }\n",
              "\n",
              "  .colab-df-quickchart-complete:disabled,\n",
              "  .colab-df-quickchart-complete:disabled:hover {\n",
              "    background-color: var(--disabled-bg-color);\n",
              "    fill: var(--disabled-fill-color);\n",
              "    box-shadow: none;\n",
              "  }\n",
              "\n",
              "  .colab-df-spinner {\n",
              "    border: 2px solid var(--fill-color);\n",
              "    border-color: transparent;\n",
              "    border-bottom-color: var(--fill-color);\n",
              "    animation:\n",
              "      spin 1s steps(1) infinite;\n",
              "  }\n",
              "\n",
              "  @keyframes spin {\n",
              "    0% {\n",
              "      border-color: transparent;\n",
              "      border-bottom-color: var(--fill-color);\n",
              "      border-left-color: var(--fill-color);\n",
              "    }\n",
              "    20% {\n",
              "      border-color: transparent;\n",
              "      border-left-color: var(--fill-color);\n",
              "      border-top-color: var(--fill-color);\n",
              "    }\n",
              "    30% {\n",
              "      border-color: transparent;\n",
              "      border-left-color: var(--fill-color);\n",
              "      border-top-color: var(--fill-color);\n",
              "      border-right-color: var(--fill-color);\n",
              "    }\n",
              "    40% {\n",
              "      border-color: transparent;\n",
              "      border-right-color: var(--fill-color);\n",
              "      border-top-color: var(--fill-color);\n",
              "    }\n",
              "    60% {\n",
              "      border-color: transparent;\n",
              "      border-right-color: var(--fill-color);\n",
              "    }\n",
              "    80% {\n",
              "      border-color: transparent;\n",
              "      border-right-color: var(--fill-color);\n",
              "      border-bottom-color: var(--fill-color);\n",
              "    }\n",
              "    90% {\n",
              "      border-color: transparent;\n",
              "      border-bottom-color: var(--fill-color);\n",
              "    }\n",
              "  }\n",
              "</style>\n",
              "\n",
              "  <script>\n",
              "    async function quickchart(key) {\n",
              "      const quickchartButtonEl =\n",
              "        document.querySelector('#' + key + ' button');\n",
              "      quickchartButtonEl.disabled = true;  // To prevent multiple clicks.\n",
              "      quickchartButtonEl.classList.add('colab-df-spinner');\n",
              "      try {\n",
              "        const charts = await google.colab.kernel.invokeFunction(\n",
              "            'suggestCharts', [key], {});\n",
              "      } catch (error) {\n",
              "        console.error('Error during call to suggestCharts:', error);\n",
              "      }\n",
              "      quickchartButtonEl.classList.remove('colab-df-spinner');\n",
              "      quickchartButtonEl.classList.add('colab-df-quickchart-complete');\n",
              "    }\n",
              "    (() => {\n",
              "      let quickchartButtonEl =\n",
              "        document.querySelector('#df-ae2ea3a5-2b0e-4095-8ee9-c2b2888558fe button');\n",
              "      quickchartButtonEl.style.display =\n",
              "        google.colab.kernel.accessAllowed ? 'block' : 'none';\n",
              "    })();\n",
              "  </script>\n",
              "</div>\n",
              "    </div>\n",
              "  </div>\n"
            ],
            "text/plain": [
              "               Data  Tarnobrzeg  Sanok Rzeszow_Rejtana Rzeszow_Pilsudskiego  \\\n",
              "0  2022-12-22 01:00        37.3   23.6            19.9                 26.6   \n",
              "1  2022-12-22 02:00        32.0   24.8            17.8                 25.3   \n",
              "2  2022-12-22 03:00        29.4   21.1            20.1                 26.0   \n",
              "3  2022-12-22 04:00        24.6   24.0            20.4                 23.8   \n",
              "4  2022-12-22 05:00        24.0   20.0            24.2                 21.6   \n",
              "\n",
              "  Rymanow_Zdroj Przemysl Nisko  Mielec Krosno Jaslo  Jaroslaw Debica  \\\n",
              "0          14.2     21.5  29.9    26.9   12.7  20.8      26.5   19.2   \n",
              "1          14.9     19.6  28.5    26.9   14.8  17.8      29.2   26.5   \n",
              "2          14.3     14.9  24.3    22.2   37.4  15.9      15.5   18.1   \n",
              "3          14.0     11.5  25.0    19.9   58.8  17.4      10.3   16.3   \n",
              "4          14.5      9.9  21.6    19.3   45.3  22.6      10.2   15.7   \n",
              "\n",
              "  Rzeszow_Starzynskiego Rzeszow_Slocinska  Jedlicze  \n",
              "0                   NaN               NaN       NaN  \n",
              "1                   NaN               NaN       NaN  \n",
              "2                   NaN               NaN       NaN  \n",
              "3                   NaN               NaN       NaN  \n",
              "4                   NaN               NaN       NaN  "
            ]
          },
          "execution_count": 56,
          "metadata": {},
          "output_type": "execute_result"
        }
      ],
      "source": [
        "pm10_df.head()"
      ]
    },
    {
      "cell_type": "code",
      "execution_count": null,
      "metadata": {
        "id": "ic_Xp6TZdzz4"
      },
      "outputs": [],
      "source": [
        "pm10_df.dtypes"
      ]
    },
    {
      "cell_type": "markdown",
      "metadata": {
        "id": "SgeVAX4bd1rs"
      },
      "source": [
        "All of our values should be floats. To fix this we will replace the empty strings with `np.nan` and cast everything to `float`"
      ]
    },
    {
      "cell_type": "code",
      "execution_count": 77,
      "metadata": {
        "id": "OOkqil0ZwF3H"
      },
      "outputs": [],
      "source": [
        "import numpy as np\n",
        "\n",
        "\n",
        "pm10_df = pm10_df.replace(' ', np.nan)\n",
        "pm10_df = pm10_df.astype(float)"
      ]
    },
    {
      "cell_type": "markdown",
      "metadata": {
        "id": "YXg0oN0keKMa"
      },
      "source": [
        "Now we can see how many missing values there are"
      ]
    },
    {
      "cell_type": "code",
      "execution_count": null,
      "metadata": {
        "id": "8V4NXiWReN5x"
      },
      "outputs": [],
      "source": [
        "pm10_df.isna().sum()"
      ]
    },
    {
      "cell_type": "markdown",
      "metadata": {
        "id": "idwr92XqeTAX"
      },
      "source": [
        "For columns with small amount of missing values we will replace them with mean value of that column."
      ]
    },
    {
      "cell_type": "code",
      "execution_count": null,
      "metadata": {
        "id": "xNXHthcseHK0"
      },
      "outputs": [],
      "source": [
        "pm10_df = pm10_df.fillna(pm10_df.mean())"
      ]
    },
    {
      "cell_type": "markdown",
      "metadata": {
        "id": "ts9bM1xZfNaz"
      },
      "source": [
        "Lastly let's set the index to `Data` column"
      ]
    },
    {
      "cell_type": "code",
      "execution_count": 91,
      "metadata": {
        "id": "TV1l9u7YwF3M"
      },
      "outputs": [],
      "source": [
        "pm10_df = pm10_df.set_index('Data')"
      ]
    },
    {
      "cell_type": "markdown",
      "metadata": {
        "id": "UeN0HuQFfRXK"
      },
      "source": [
        "## Cities Geopandas DataFrame Preprocessing"
      ]
    },
    {
      "cell_type": "markdown",
      "metadata": {
        "id": "kk6QVJqXfeaF"
      },
      "source": [
        "Next let's load our shapefile with cities data"
      ]
    },
    {
      "cell_type": "code",
      "execution_count": 59,
      "metadata": {
        "colab": {
          "base_uri": "https://localhost:8080/"
        },
        "id": "1_4iqOnFwF3A",
        "outputId": "8636a048-c141-4277-c77d-3434ad8f9cd2"
      },
      "outputs": [
        {
          "name": "stdout",
          "output_type": "stream",
          "text": [
            "                      INFO       STATION_CO                 STATION_NA  \\\n",
            "0    automatyczno-manualny     PmKosTargowa   Kościerzyna, ul. Targowa   \n",
            "1             automatyczny     PmMalMickiew   Malbork, ul. Mickiewicza   \n",
            "2    automatyczno-manualny     PmLebMalczew  Lębork, ul. Malczewskiego   \n",
            "3             automatyczny     PmLinieKosci       Liniewko Kościerskie   \n",
            "4             automatyczny     KpBydPlPozna   Bydgoszcz, pl. Poznański   \n",
            "..                     ...              ...                        ...   \n",
            "282  automatyczno-manualny     WpPoznSzwajc     Poznań ul. Szwajcarska   \n",
            "283           automatyczny     WpMosinaCzer    Mosina, ul. Czereśniowa   \n",
            "284  automatyczno-manualny     OpBrzegPoprz      Brzeg, ul. Poprzeczna   \n",
            "285  automatyczno-manualny     LuNowaSolKos                   Nowa Sól   \n",
            "286  automatyczno-manualny  MpWadowiBalyMOB       Wadowice, ul. Bałysa   \n",
            "\n",
            "                       ADDRESS                   geometry  \n",
            "0     Kościerzyna, ul. Targowa  POINT (17.97586 54.12069)  \n",
            "1     Malbork, ul. Mickiewicza  POINT (19.03290 54.03125)  \n",
            "2    Lębork, ul. Malczewskiego  POINT (17.74619 54.54617)  \n",
            "3        Liniewko Kościerskie,  POINT (18.18297 54.10411)  \n",
            "4    Bydgoszcz, Plac Poznański  POINT (17.98791 53.12176)  \n",
            "..                         ...                        ...  \n",
            "282    Poznań, ul. Szwajcarska  POINT (16.99805 52.39088)  \n",
            "283  Mosina, ul. Czereśniowa 4  POINT (16.86513 52.24150)  \n",
            "284    Brzeg, ul. Poprzeczna 1  POINT (17.46258 50.84951)  \n",
            "285    Nowa Sól, T. Kościuszki  POINT (15.70804 51.80910)  \n",
            "286           Wadowice, Bałysa  POINT (19.49747 49.87236)  \n",
            "\n",
            "[287 rows x 5 columns]\n"
          ]
        }
      ],
      "source": [
        "import geopandas as gpd\n",
        "\n",
        "shapefile_path = \"zipfolder/Wszystkie.shp\"\n",
        "\n",
        "gdf = gpd.read_file(shapefile_path)\n",
        "\n",
        "gdf.head()"
      ]
    },
    {
      "cell_type": "markdown",
      "metadata": {
        "id": "U8Pa_OR1fm2E"
      },
      "source": [
        "As we can many of our values have polish characters. We will fix that by using `unidecode`"
      ]
    },
    {
      "cell_type": "code",
      "execution_count": 62,
      "metadata": {
        "id": "Y5xcAwHTwF3B"
      },
      "outputs": [],
      "source": [
        "from unidecode import unidecode\n",
        "\n",
        "for col in gdf.select_dtypes(include=[object]):\n",
        "    gdf[col] = gdf[col].apply(unidecode)"
      ]
    },
    {
      "cell_type": "markdown",
      "metadata": {
        "id": "K9ThOivSfzf4"
      },
      "source": [
        "Now we can see how many of our `cities` are within the `gdf` dataframe"
      ]
    },
    {
      "cell_type": "code",
      "execution_count": 64,
      "metadata": {
        "colab": {
          "base_uri": "https://localhost:8080/"
        },
        "id": "u5Aw_liMwF3C",
        "outputId": "7020f515-942a-4748-c25b-b2e154a073e9"
      },
      "outputs": [
        {
          "name": "stdout",
          "output_type": "stream",
          "text": [
            "['Tarnobrzeg, ul. Dabrowskiej']\n",
            "['Sanok, ul. Sadowa']\n",
            "['Rzeszow, ul. Rejtana' 'Rzeszow, ul. Pilsudskiego'\n",
            " 'Rzeszow, ul. Starzynskiego' 'Rzeszow, ul. Slocinska']\n",
            "['Rymanow Zdroj, ul. Parkowa']\n",
            "['Szczecinek, ul. Przemyslowa' 'Przemysl, ul. Grunwaldzka']\n",
            "['Nisko, ul. Szklarniowa']\n",
            "['Mielec, ul. Biernackiego' 'Mielec, ul. Pogodna']\n",
            "['Krosno, ul. Kletowki']\n",
            "['Jaslo, ul. Sikorskiego']\n",
            "['Jaroslaw, ul. Pruchnicka']\n",
            "['Debica, ul.Grottgera']\n",
            "['Jedlicze, ul. Tokarskich']\n"
          ]
        }
      ],
      "source": [
        "for city in cities:\n",
        "    print(gdf[gdf['STATION_NA'].str.contains(city)]['STATION_NA'].unique())"
      ]
    },
    {
      "cell_type": "markdown",
      "metadata": {
        "id": "JnxxcjEbf9Cs"
      },
      "source": [
        "We will take a subset from our dataframe with only these adresses. To do so let's create a flat list with these values"
      ]
    },
    {
      "cell_type": "code",
      "execution_count": 65,
      "metadata": {
        "id": "UvmEEKR8wF3C"
      },
      "outputs": [],
      "source": [
        "addresses = [gdf[gdf['STATION_NA'].str.contains(city)]['STATION_NA'].unique() for city in cities]"
      ]
    },
    {
      "cell_type": "markdown",
      "metadata": {
        "id": "F0rM2WWrgT_2"
      },
      "source": [
        "Here we use `itertools` to flatten our list"
      ]
    },
    {
      "cell_type": "code",
      "execution_count": 66,
      "metadata": {
        "id": "EuMdXSiOwF3D"
      },
      "outputs": [],
      "source": [
        "import itertools\n",
        "\n",
        "addresses = list(itertools.chain.from_iterable(addresses))"
      ]
    },
    {
      "cell_type": "markdown",
      "metadata": {
        "id": "0t20ydt9gYIa"
      },
      "source": [
        "And lastly we get rid of Szczecinek"
      ]
    },
    {
      "cell_type": "code",
      "execution_count": 67,
      "metadata": {
        "id": "gpU10K6mwF3D"
      },
      "outputs": [],
      "source": [
        "addresses = [addresse for addresse in addresses if addresse != 'Szczecinek, ul. Przemyslowa']"
      ]
    },
    {
      "cell_type": "code",
      "execution_count": 68,
      "metadata": {
        "colab": {
          "base_uri": "https://localhost:8080/"
        },
        "id": "XKIKTVxmwF3D",
        "outputId": "544a8b49-a9af-4927-c9a1-0faffd736993"
      },
      "outputs": [
        {
          "data": {
            "text/plain": [
              "['Tarnobrzeg, ul. Dabrowskiej',\n",
              " 'Sanok, ul. Sadowa',\n",
              " 'Rzeszow, ul. Rejtana',\n",
              " 'Rzeszow, ul. Pilsudskiego',\n",
              " 'Rzeszow, ul. Starzynskiego',\n",
              " 'Rzeszow, ul. Slocinska',\n",
              " 'Rymanow Zdroj, ul. Parkowa',\n",
              " 'Przemysl, ul. Grunwaldzka',\n",
              " 'Nisko, ul. Szklarniowa',\n",
              " 'Mielec, ul. Biernackiego',\n",
              " 'Mielec, ul. Pogodna',\n",
              " 'Krosno, ul. Kletowki',\n",
              " 'Jaslo, ul. Sikorskiego',\n",
              " 'Jaroslaw, ul. Pruchnicka',\n",
              " 'Debica, ul.Grottgera',\n",
              " 'Jedlicze, ul. Tokarskich']"
            ]
          },
          "execution_count": 68,
          "metadata": {},
          "output_type": "execute_result"
        }
      ],
      "source": [
        "addresses"
      ]
    },
    {
      "cell_type": "markdown",
      "metadata": {
        "id": "xHPo8xBcgbQV"
      },
      "source": [
        "Now with our list we can create a subset `gdf_podkarpacie`"
      ]
    },
    {
      "cell_type": "code",
      "execution_count": 69,
      "metadata": {
        "id": "zsdNPXJFwF3E"
      },
      "outputs": [],
      "source": [
        "gdf_podkarpacie = gdf.loc[gdf['STATION_NA'].isin(columns)]\n",
        "gdf_podkarpacie = gdf_podkarpacie.drop(['INFO', 'STATION_CO', 'ADDRESS'], axis=1)\n",
        "gdf_podkarpacie.head()"
      ]
    },
    {
      "cell_type": "markdown",
      "metadata": {
        "id": "7irG7yi0hZOb"
      },
      "source": [
        "With our subset now we want to unify the adresses with our `pm10_df` column names.\n",
        "We will start by matching the first value in column name which is the city"
      ]
    },
    {
      "cell_type": "code",
      "execution_count": 86,
      "metadata": {
        "colab": {
          "base_uri": "https://localhost:8080/",
          "height": 551
        },
        "id": "WPwBFSWrwF3L",
        "outputId": "601bb0dd-1e52-485b-aa00-0b0d19efed7c"
      },
      "outputs": [
        {
          "data": {
            "text/html": [
              "\n",
              "  <div id=\"df-0aecc7e2-3a34-4779-bd43-f206f7b45705\" class=\"colab-df-container\">\n",
              "    <div>\n",
              "<style scoped>\n",
              "    .dataframe tbody tr th:only-of-type {\n",
              "        vertical-align: middle;\n",
              "    }\n",
              "\n",
              "    .dataframe tbody tr th {\n",
              "        vertical-align: top;\n",
              "    }\n",
              "\n",
              "    .dataframe thead th {\n",
              "        text-align: right;\n",
              "    }\n",
              "</style>\n",
              "<table border=\"1\" class=\"dataframe\">\n",
              "  <thead>\n",
              "    <tr style=\"text-align: right;\">\n",
              "      <th></th>\n",
              "      <th>STATION_NA</th>\n",
              "      <th>geometry</th>\n",
              "    </tr>\n",
              "  </thead>\n",
              "  <tbody>\n",
              "    <tr>\n",
              "      <th>35</th>\n",
              "      <td>Jaslo</td>\n",
              "      <td>POINT (21.45462 49.74489)</td>\n",
              "    </tr>\n",
              "    <tr>\n",
              "      <th>36</th>\n",
              "      <td>Krosno</td>\n",
              "      <td>POINT (21.74970 49.69017)</td>\n",
              "    </tr>\n",
              "    <tr>\n",
              "      <th>37</th>\n",
              "      <td>Nisko</td>\n",
              "      <td>POINT (22.11247 50.52989)</td>\n",
              "    </tr>\n",
              "    <tr>\n",
              "      <th>121</th>\n",
              "      <td>Sanok</td>\n",
              "      <td>POINT (22.19589 49.57173)</td>\n",
              "    </tr>\n",
              "    <tr>\n",
              "      <th>122</th>\n",
              "      <td>Tarnobrzeg</td>\n",
              "      <td>POINT (21.68837 50.57574)</td>\n",
              "    </tr>\n",
              "    <tr>\n",
              "      <th>136</th>\n",
              "      <td>Jaroslaw</td>\n",
              "      <td>POINT (22.67477 50.01208)</td>\n",
              "    </tr>\n",
              "    <tr>\n",
              "      <th>170</th>\n",
              "      <td>Przemysl</td>\n",
              "      <td>POINT (22.75624 49.78434)</td>\n",
              "    </tr>\n",
              "    <tr>\n",
              "      <th>171</th>\n",
              "      <td>Rzeszow, ul. Rejtana</td>\n",
              "      <td>POINT (22.01058 50.02424)</td>\n",
              "    </tr>\n",
              "    <tr>\n",
              "      <th>185</th>\n",
              "      <td>Debica</td>\n",
              "      <td>POINT (21.41626 50.05479)</td>\n",
              "    </tr>\n",
              "    <tr>\n",
              "      <th>188</th>\n",
              "      <td>Mielec</td>\n",
              "      <td>POINT (21.44094 50.29913)</td>\n",
              "    </tr>\n",
              "    <tr>\n",
              "      <th>210</th>\n",
              "      <td>Mielec</td>\n",
              "      <td>POINT (21.48637 50.31804)</td>\n",
              "    </tr>\n",
              "    <tr>\n",
              "      <th>214</th>\n",
              "      <td>Rzeszow, ul. Pilsudskiego</td>\n",
              "      <td>POINT (22.00466 50.04068)</td>\n",
              "    </tr>\n",
              "    <tr>\n",
              "      <th>216</th>\n",
              "      <td>Rymanow Zdroj, ul. Parkowa</td>\n",
              "      <td>POINT (21.85101 49.54654)</td>\n",
              "    </tr>\n",
              "    <tr>\n",
              "      <th>277</th>\n",
              "      <td>Rzeszow, ul. Starzynskiego</td>\n",
              "      <td>POINT (21.98051 50.06038)</td>\n",
              "    </tr>\n",
              "    <tr>\n",
              "      <th>278</th>\n",
              "      <td>Rzeszow, ul. Slocinska</td>\n",
              "      <td>POINT (22.04794 50.02486)</td>\n",
              "    </tr>\n",
              "    <tr>\n",
              "      <th>279</th>\n",
              "      <td>Jedlicze, ul. Tokarskich</td>\n",
              "      <td>POINT (21.64151 49.71403)</td>\n",
              "    </tr>\n",
              "  </tbody>\n",
              "</table>\n",
              "</div>\n",
              "    <div class=\"colab-df-buttons\">\n",
              "\n",
              "  <div class=\"colab-df-container\">\n",
              "    <button class=\"colab-df-convert\" onclick=\"convertToInteractive('df-0aecc7e2-3a34-4779-bd43-f206f7b45705')\"\n",
              "            title=\"Convert this dataframe to an interactive table.\"\n",
              "            style=\"display:none;\">\n",
              "\n",
              "  <svg xmlns=\"http://www.w3.org/2000/svg\" height=\"24px\" viewBox=\"0 -960 960 960\">\n",
              "    <path d=\"M120-120v-720h720v720H120Zm60-500h600v-160H180v160Zm220 220h160v-160H400v160Zm0 220h160v-160H400v160ZM180-400h160v-160H180v160Zm440 0h160v-160H620v160ZM180-180h160v-160H180v160Zm440 0h160v-160H620v160Z\"/>\n",
              "  </svg>\n",
              "    </button>\n",
              "\n",
              "  <style>\n",
              "    .colab-df-container {\n",
              "      display:flex;\n",
              "      gap: 12px;\n",
              "    }\n",
              "\n",
              "    .colab-df-convert {\n",
              "      background-color: #E8F0FE;\n",
              "      border: none;\n",
              "      border-radius: 50%;\n",
              "      cursor: pointer;\n",
              "      display: none;\n",
              "      fill: #1967D2;\n",
              "      height: 32px;\n",
              "      padding: 0 0 0 0;\n",
              "      width: 32px;\n",
              "    }\n",
              "\n",
              "    .colab-df-convert:hover {\n",
              "      background-color: #E2EBFA;\n",
              "      box-shadow: 0px 1px 2px rgba(60, 64, 67, 0.3), 0px 1px 3px 1px rgba(60, 64, 67, 0.15);\n",
              "      fill: #174EA6;\n",
              "    }\n",
              "\n",
              "    .colab-df-buttons div {\n",
              "      margin-bottom: 4px;\n",
              "    }\n",
              "\n",
              "    [theme=dark] .colab-df-convert {\n",
              "      background-color: #3B4455;\n",
              "      fill: #D2E3FC;\n",
              "    }\n",
              "\n",
              "    [theme=dark] .colab-df-convert:hover {\n",
              "      background-color: #434B5C;\n",
              "      box-shadow: 0px 1px 3px 1px rgba(0, 0, 0, 0.15);\n",
              "      filter: drop-shadow(0px 1px 2px rgba(0, 0, 0, 0.3));\n",
              "      fill: #FFFFFF;\n",
              "    }\n",
              "  </style>\n",
              "\n",
              "    <script>\n",
              "      const buttonEl =\n",
              "        document.querySelector('#df-0aecc7e2-3a34-4779-bd43-f206f7b45705 button.colab-df-convert');\n",
              "      buttonEl.style.display =\n",
              "        google.colab.kernel.accessAllowed ? 'block' : 'none';\n",
              "\n",
              "      async function convertToInteractive(key) {\n",
              "        const element = document.querySelector('#df-0aecc7e2-3a34-4779-bd43-f206f7b45705');\n",
              "        const dataTable =\n",
              "          await google.colab.kernel.invokeFunction('convertToInteractive',\n",
              "                                                    [key], {});\n",
              "        if (!dataTable) return;\n",
              "\n",
              "        const docLinkHtml = 'Like what you see? Visit the ' +\n",
              "          '<a target=\"_blank\" href=https://colab.research.google.com/notebooks/data_table.ipynb>data table notebook</a>'\n",
              "          + ' to learn more about interactive tables.';\n",
              "        element.innerHTML = '';\n",
              "        dataTable['output_type'] = 'display_data';\n",
              "        await google.colab.output.renderOutput(dataTable, element);\n",
              "        const docLink = document.createElement('div');\n",
              "        docLink.innerHTML = docLinkHtml;\n",
              "        element.appendChild(docLink);\n",
              "      }\n",
              "    </script>\n",
              "  </div>\n",
              "\n",
              "\n",
              "<div id=\"df-b554ea1c-8e5e-4c85-aa68-7a993c8afa6c\">\n",
              "  <button class=\"colab-df-quickchart\" onclick=\"quickchart('df-b554ea1c-8e5e-4c85-aa68-7a993c8afa6c')\"\n",
              "            title=\"Suggest charts\"\n",
              "            style=\"display:none;\">\n",
              "\n",
              "<svg xmlns=\"http://www.w3.org/2000/svg\" height=\"24px\"viewBox=\"0 0 24 24\"\n",
              "     width=\"24px\">\n",
              "    <g>\n",
              "        <path d=\"M19 3H5c-1.1 0-2 .9-2 2v14c0 1.1.9 2 2 2h14c1.1 0 2-.9 2-2V5c0-1.1-.9-2-2-2zM9 17H7v-7h2v7zm4 0h-2V7h2v10zm4 0h-2v-4h2v4z\"/>\n",
              "    </g>\n",
              "</svg>\n",
              "  </button>\n",
              "\n",
              "<style>\n",
              "  .colab-df-quickchart {\n",
              "      --bg-color: #E8F0FE;\n",
              "      --fill-color: #1967D2;\n",
              "      --hover-bg-color: #E2EBFA;\n",
              "      --hover-fill-color: #174EA6;\n",
              "      --disabled-fill-color: #AAA;\n",
              "      --disabled-bg-color: #DDD;\n",
              "  }\n",
              "\n",
              "  [theme=dark] .colab-df-quickchart {\n",
              "      --bg-color: #3B4455;\n",
              "      --fill-color: #D2E3FC;\n",
              "      --hover-bg-color: #434B5C;\n",
              "      --hover-fill-color: #FFFFFF;\n",
              "      --disabled-bg-color: #3B4455;\n",
              "      --disabled-fill-color: #666;\n",
              "  }\n",
              "\n",
              "  .colab-df-quickchart {\n",
              "    background-color: var(--bg-color);\n",
              "    border: none;\n",
              "    border-radius: 50%;\n",
              "    cursor: pointer;\n",
              "    display: none;\n",
              "    fill: var(--fill-color);\n",
              "    height: 32px;\n",
              "    padding: 0;\n",
              "    width: 32px;\n",
              "  }\n",
              "\n",
              "  .colab-df-quickchart:hover {\n",
              "    background-color: var(--hover-bg-color);\n",
              "    box-shadow: 0 1px 2px rgba(60, 64, 67, 0.3), 0 1px 3px 1px rgba(60, 64, 67, 0.15);\n",
              "    fill: var(--button-hover-fill-color);\n",
              "  }\n",
              "\n",
              "  .colab-df-quickchart-complete:disabled,\n",
              "  .colab-df-quickchart-complete:disabled:hover {\n",
              "    background-color: var(--disabled-bg-color);\n",
              "    fill: var(--disabled-fill-color);\n",
              "    box-shadow: none;\n",
              "  }\n",
              "\n",
              "  .colab-df-spinner {\n",
              "    border: 2px solid var(--fill-color);\n",
              "    border-color: transparent;\n",
              "    border-bottom-color: var(--fill-color);\n",
              "    animation:\n",
              "      spin 1s steps(1) infinite;\n",
              "  }\n",
              "\n",
              "  @keyframes spin {\n",
              "    0% {\n",
              "      border-color: transparent;\n",
              "      border-bottom-color: var(--fill-color);\n",
              "      border-left-color: var(--fill-color);\n",
              "    }\n",
              "    20% {\n",
              "      border-color: transparent;\n",
              "      border-left-color: var(--fill-color);\n",
              "      border-top-color: var(--fill-color);\n",
              "    }\n",
              "    30% {\n",
              "      border-color: transparent;\n",
              "      border-left-color: var(--fill-color);\n",
              "      border-top-color: var(--fill-color);\n",
              "      border-right-color: var(--fill-color);\n",
              "    }\n",
              "    40% {\n",
              "      border-color: transparent;\n",
              "      border-right-color: var(--fill-color);\n",
              "      border-top-color: var(--fill-color);\n",
              "    }\n",
              "    60% {\n",
              "      border-color: transparent;\n",
              "      border-right-color: var(--fill-color);\n",
              "    }\n",
              "    80% {\n",
              "      border-color: transparent;\n",
              "      border-right-color: var(--fill-color);\n",
              "      border-bottom-color: var(--fill-color);\n",
              "    }\n",
              "    90% {\n",
              "      border-color: transparent;\n",
              "      border-bottom-color: var(--fill-color);\n",
              "    }\n",
              "  }\n",
              "</style>\n",
              "\n",
              "  <script>\n",
              "    async function quickchart(key) {\n",
              "      const quickchartButtonEl =\n",
              "        document.querySelector('#' + key + ' button');\n",
              "      quickchartButtonEl.disabled = true;  // To prevent multiple clicks.\n",
              "      quickchartButtonEl.classList.add('colab-df-spinner');\n",
              "      try {\n",
              "        const charts = await google.colab.kernel.invokeFunction(\n",
              "            'suggestCharts', [key], {});\n",
              "      } catch (error) {\n",
              "        console.error('Error during call to suggestCharts:', error);\n",
              "      }\n",
              "      quickchartButtonEl.classList.remove('colab-df-spinner');\n",
              "      quickchartButtonEl.classList.add('colab-df-quickchart-complete');\n",
              "    }\n",
              "    (() => {\n",
              "      let quickchartButtonEl =\n",
              "        document.querySelector('#df-b554ea1c-8e5e-4c85-aa68-7a993c8afa6c button');\n",
              "      quickchartButtonEl.style.display =\n",
              "        google.colab.kernel.accessAllowed ? 'block' : 'none';\n",
              "    })();\n",
              "  </script>\n",
              "</div>\n",
              "    </div>\n",
              "  </div>\n"
            ],
            "text/plain": [
              "                     STATION_NA                   geometry\n",
              "35                        Jaslo  POINT (21.45462 49.74489)\n",
              "36                       Krosno  POINT (21.74970 49.69017)\n",
              "37                        Nisko  POINT (22.11247 50.52989)\n",
              "121                       Sanok  POINT (22.19589 49.57173)\n",
              "122                  Tarnobrzeg  POINT (21.68837 50.57574)\n",
              "136                    Jaroslaw  POINT (22.67477 50.01208)\n",
              "170                    Przemysl  POINT (22.75624 49.78434)\n",
              "171        Rzeszow, ul. Rejtana  POINT (22.01058 50.02424)\n",
              "185                      Debica  POINT (21.41626 50.05479)\n",
              "188                      Mielec  POINT (21.44094 50.29913)\n",
              "210                      Mielec  POINT (21.48637 50.31804)\n",
              "214   Rzeszow, ul. Pilsudskiego  POINT (22.00466 50.04068)\n",
              "216  Rymanow Zdroj, ul. Parkowa  POINT (21.85101 49.54654)\n",
              "277  Rzeszow, ul. Starzynskiego  POINT (21.98051 50.06038)\n",
              "278      Rzeszow, ul. Slocinska  POINT (22.04794 50.02486)\n",
              "279    Jedlicze, ul. Tokarskich  POINT (21.64151 49.71403)"
            ]
          },
          "execution_count": 86,
          "metadata": {},
          "output_type": "execute_result"
        }
      ],
      "source": [
        "gdf_podkarpacie_cities = gdf_podkarpacie.copy()\n",
        "\n",
        "for address in addresses:\n",
        "    matched_city = next((city for city in cities if city.split('_')[0] in address), None)\n",
        "    if not matched_city or len(matched_city.split('_')) > 1:\n",
        "        continue\n",
        "\n",
        "    gdf_podkarpacie_cities.loc[gdf_podkarpacie_cities['STATION_NA'] == address, 'STATION_NA'] = matched_city\n",
        "\n",
        "gdf_podkarpacie_cities"
      ]
    },
    {
      "cell_type": "markdown",
      "metadata": {
        "id": "1Nhl4jlAhmom"
      },
      "source": [
        "Next we will match the second value which is the street"
      ]
    },
    {
      "cell_type": "code",
      "execution_count": 87,
      "metadata": {
        "colab": {
          "base_uri": "https://localhost:8080/",
          "height": 551
        },
        "id": "ZjrJLi4kwF3L",
        "outputId": "42ffa7b1-0ed1-4008-b828-cd2f3b634aad"
      },
      "outputs": [
        {
          "data": {
            "text/html": [
              "\n",
              "  <div id=\"df-456650a5-3f0b-4cd6-905c-1260327e1fa7\" class=\"colab-df-container\">\n",
              "    <div>\n",
              "<style scoped>\n",
              "    .dataframe tbody tr th:only-of-type {\n",
              "        vertical-align: middle;\n",
              "    }\n",
              "\n",
              "    .dataframe tbody tr th {\n",
              "        vertical-align: top;\n",
              "    }\n",
              "\n",
              "    .dataframe thead th {\n",
              "        text-align: right;\n",
              "    }\n",
              "</style>\n",
              "<table border=\"1\" class=\"dataframe\">\n",
              "  <thead>\n",
              "    <tr style=\"text-align: right;\">\n",
              "      <th></th>\n",
              "      <th>STATION_NA</th>\n",
              "      <th>geometry</th>\n",
              "    </tr>\n",
              "  </thead>\n",
              "  <tbody>\n",
              "    <tr>\n",
              "      <th>35</th>\n",
              "      <td>Jaslo</td>\n",
              "      <td>POINT (21.45462 49.74489)</td>\n",
              "    </tr>\n",
              "    <tr>\n",
              "      <th>36</th>\n",
              "      <td>Krosno</td>\n",
              "      <td>POINT (21.74970 49.69017)</td>\n",
              "    </tr>\n",
              "    <tr>\n",
              "      <th>37</th>\n",
              "      <td>Nisko</td>\n",
              "      <td>POINT (22.11247 50.52989)</td>\n",
              "    </tr>\n",
              "    <tr>\n",
              "      <th>121</th>\n",
              "      <td>Sanok</td>\n",
              "      <td>POINT (22.19589 49.57173)</td>\n",
              "    </tr>\n",
              "    <tr>\n",
              "      <th>122</th>\n",
              "      <td>Tarnobrzeg</td>\n",
              "      <td>POINT (21.68837 50.57574)</td>\n",
              "    </tr>\n",
              "    <tr>\n",
              "      <th>136</th>\n",
              "      <td>Jaroslaw</td>\n",
              "      <td>POINT (22.67477 50.01208)</td>\n",
              "    </tr>\n",
              "    <tr>\n",
              "      <th>170</th>\n",
              "      <td>Przemysl</td>\n",
              "      <td>POINT (22.75624 49.78434)</td>\n",
              "    </tr>\n",
              "    <tr>\n",
              "      <th>171</th>\n",
              "      <td>Rzeszow_Rejtana</td>\n",
              "      <td>POINT (22.01058 50.02424)</td>\n",
              "    </tr>\n",
              "    <tr>\n",
              "      <th>185</th>\n",
              "      <td>Debica</td>\n",
              "      <td>POINT (21.41626 50.05479)</td>\n",
              "    </tr>\n",
              "    <tr>\n",
              "      <th>188</th>\n",
              "      <td>Mielec</td>\n",
              "      <td>POINT (21.44094 50.29913)</td>\n",
              "    </tr>\n",
              "    <tr>\n",
              "      <th>210</th>\n",
              "      <td>Mielec</td>\n",
              "      <td>POINT (21.48637 50.31804)</td>\n",
              "    </tr>\n",
              "    <tr>\n",
              "      <th>214</th>\n",
              "      <td>Rzeszow_Pilsudskiego</td>\n",
              "      <td>POINT (22.00466 50.04068)</td>\n",
              "    </tr>\n",
              "    <tr>\n",
              "      <th>216</th>\n",
              "      <td>Rymanow_Zdroj</td>\n",
              "      <td>POINT (21.85101 49.54654)</td>\n",
              "    </tr>\n",
              "    <tr>\n",
              "      <th>277</th>\n",
              "      <td>Rzeszow, ul. Starzynskiego</td>\n",
              "      <td>POINT (21.98051 50.06038)</td>\n",
              "    </tr>\n",
              "    <tr>\n",
              "      <th>278</th>\n",
              "      <td>Rzeszow, ul. Slocinska</td>\n",
              "      <td>POINT (22.04794 50.02486)</td>\n",
              "    </tr>\n",
              "    <tr>\n",
              "      <th>279</th>\n",
              "      <td>Jedlicze, ul. Tokarskich</td>\n",
              "      <td>POINT (21.64151 49.71403)</td>\n",
              "    </tr>\n",
              "  </tbody>\n",
              "</table>\n",
              "</div>\n",
              "    <div class=\"colab-df-buttons\">\n",
              "\n",
              "  <div class=\"colab-df-container\">\n",
              "    <button class=\"colab-df-convert\" onclick=\"convertToInteractive('df-456650a5-3f0b-4cd6-905c-1260327e1fa7')\"\n",
              "            title=\"Convert this dataframe to an interactive table.\"\n",
              "            style=\"display:none;\">\n",
              "\n",
              "  <svg xmlns=\"http://www.w3.org/2000/svg\" height=\"24px\" viewBox=\"0 -960 960 960\">\n",
              "    <path d=\"M120-120v-720h720v720H120Zm60-500h600v-160H180v160Zm220 220h160v-160H400v160Zm0 220h160v-160H400v160ZM180-400h160v-160H180v160Zm440 0h160v-160H620v160ZM180-180h160v-160H180v160Zm440 0h160v-160H620v160Z\"/>\n",
              "  </svg>\n",
              "    </button>\n",
              "\n",
              "  <style>\n",
              "    .colab-df-container {\n",
              "      display:flex;\n",
              "      gap: 12px;\n",
              "    }\n",
              "\n",
              "    .colab-df-convert {\n",
              "      background-color: #E8F0FE;\n",
              "      border: none;\n",
              "      border-radius: 50%;\n",
              "      cursor: pointer;\n",
              "      display: none;\n",
              "      fill: #1967D2;\n",
              "      height: 32px;\n",
              "      padding: 0 0 0 0;\n",
              "      width: 32px;\n",
              "    }\n",
              "\n",
              "    .colab-df-convert:hover {\n",
              "      background-color: #E2EBFA;\n",
              "      box-shadow: 0px 1px 2px rgba(60, 64, 67, 0.3), 0px 1px 3px 1px rgba(60, 64, 67, 0.15);\n",
              "      fill: #174EA6;\n",
              "    }\n",
              "\n",
              "    .colab-df-buttons div {\n",
              "      margin-bottom: 4px;\n",
              "    }\n",
              "\n",
              "    [theme=dark] .colab-df-convert {\n",
              "      background-color: #3B4455;\n",
              "      fill: #D2E3FC;\n",
              "    }\n",
              "\n",
              "    [theme=dark] .colab-df-convert:hover {\n",
              "      background-color: #434B5C;\n",
              "      box-shadow: 0px 1px 3px 1px rgba(0, 0, 0, 0.15);\n",
              "      filter: drop-shadow(0px 1px 2px rgba(0, 0, 0, 0.3));\n",
              "      fill: #FFFFFF;\n",
              "    }\n",
              "  </style>\n",
              "\n",
              "    <script>\n",
              "      const buttonEl =\n",
              "        document.querySelector('#df-456650a5-3f0b-4cd6-905c-1260327e1fa7 button.colab-df-convert');\n",
              "      buttonEl.style.display =\n",
              "        google.colab.kernel.accessAllowed ? 'block' : 'none';\n",
              "\n",
              "      async function convertToInteractive(key) {\n",
              "        const element = document.querySelector('#df-456650a5-3f0b-4cd6-905c-1260327e1fa7');\n",
              "        const dataTable =\n",
              "          await google.colab.kernel.invokeFunction('convertToInteractive',\n",
              "                                                    [key], {});\n",
              "        if (!dataTable) return;\n",
              "\n",
              "        const docLinkHtml = 'Like what you see? Visit the ' +\n",
              "          '<a target=\"_blank\" href=https://colab.research.google.com/notebooks/data_table.ipynb>data table notebook</a>'\n",
              "          + ' to learn more about interactive tables.';\n",
              "        element.innerHTML = '';\n",
              "        dataTable['output_type'] = 'display_data';\n",
              "        await google.colab.output.renderOutput(dataTable, element);\n",
              "        const docLink = document.createElement('div');\n",
              "        docLink.innerHTML = docLinkHtml;\n",
              "        element.appendChild(docLink);\n",
              "      }\n",
              "    </script>\n",
              "  </div>\n",
              "\n",
              "\n",
              "<div id=\"df-7a4b67bd-92a6-4b26-8c7f-561958fcbb57\">\n",
              "  <button class=\"colab-df-quickchart\" onclick=\"quickchart('df-7a4b67bd-92a6-4b26-8c7f-561958fcbb57')\"\n",
              "            title=\"Suggest charts\"\n",
              "            style=\"display:none;\">\n",
              "\n",
              "<svg xmlns=\"http://www.w3.org/2000/svg\" height=\"24px\"viewBox=\"0 0 24 24\"\n",
              "     width=\"24px\">\n",
              "    <g>\n",
              "        <path d=\"M19 3H5c-1.1 0-2 .9-2 2v14c0 1.1.9 2 2 2h14c1.1 0 2-.9 2-2V5c0-1.1-.9-2-2-2zM9 17H7v-7h2v7zm4 0h-2V7h2v10zm4 0h-2v-4h2v4z\"/>\n",
              "    </g>\n",
              "</svg>\n",
              "  </button>\n",
              "\n",
              "<style>\n",
              "  .colab-df-quickchart {\n",
              "      --bg-color: #E8F0FE;\n",
              "      --fill-color: #1967D2;\n",
              "      --hover-bg-color: #E2EBFA;\n",
              "      --hover-fill-color: #174EA6;\n",
              "      --disabled-fill-color: #AAA;\n",
              "      --disabled-bg-color: #DDD;\n",
              "  }\n",
              "\n",
              "  [theme=dark] .colab-df-quickchart {\n",
              "      --bg-color: #3B4455;\n",
              "      --fill-color: #D2E3FC;\n",
              "      --hover-bg-color: #434B5C;\n",
              "      --hover-fill-color: #FFFFFF;\n",
              "      --disabled-bg-color: #3B4455;\n",
              "      --disabled-fill-color: #666;\n",
              "  }\n",
              "\n",
              "  .colab-df-quickchart {\n",
              "    background-color: var(--bg-color);\n",
              "    border: none;\n",
              "    border-radius: 50%;\n",
              "    cursor: pointer;\n",
              "    display: none;\n",
              "    fill: var(--fill-color);\n",
              "    height: 32px;\n",
              "    padding: 0;\n",
              "    width: 32px;\n",
              "  }\n",
              "\n",
              "  .colab-df-quickchart:hover {\n",
              "    background-color: var(--hover-bg-color);\n",
              "    box-shadow: 0 1px 2px rgba(60, 64, 67, 0.3), 0 1px 3px 1px rgba(60, 64, 67, 0.15);\n",
              "    fill: var(--button-hover-fill-color);\n",
              "  }\n",
              "\n",
              "  .colab-df-quickchart-complete:disabled,\n",
              "  .colab-df-quickchart-complete:disabled:hover {\n",
              "    background-color: var(--disabled-bg-color);\n",
              "    fill: var(--disabled-fill-color);\n",
              "    box-shadow: none;\n",
              "  }\n",
              "\n",
              "  .colab-df-spinner {\n",
              "    border: 2px solid var(--fill-color);\n",
              "    border-color: transparent;\n",
              "    border-bottom-color: var(--fill-color);\n",
              "    animation:\n",
              "      spin 1s steps(1) infinite;\n",
              "  }\n",
              "\n",
              "  @keyframes spin {\n",
              "    0% {\n",
              "      border-color: transparent;\n",
              "      border-bottom-color: var(--fill-color);\n",
              "      border-left-color: var(--fill-color);\n",
              "    }\n",
              "    20% {\n",
              "      border-color: transparent;\n",
              "      border-left-color: var(--fill-color);\n",
              "      border-top-color: var(--fill-color);\n",
              "    }\n",
              "    30% {\n",
              "      border-color: transparent;\n",
              "      border-left-color: var(--fill-color);\n",
              "      border-top-color: var(--fill-color);\n",
              "      border-right-color: var(--fill-color);\n",
              "    }\n",
              "    40% {\n",
              "      border-color: transparent;\n",
              "      border-right-color: var(--fill-color);\n",
              "      border-top-color: var(--fill-color);\n",
              "    }\n",
              "    60% {\n",
              "      border-color: transparent;\n",
              "      border-right-color: var(--fill-color);\n",
              "    }\n",
              "    80% {\n",
              "      border-color: transparent;\n",
              "      border-right-color: var(--fill-color);\n",
              "      border-bottom-color: var(--fill-color);\n",
              "    }\n",
              "    90% {\n",
              "      border-color: transparent;\n",
              "      border-bottom-color: var(--fill-color);\n",
              "    }\n",
              "  }\n",
              "</style>\n",
              "\n",
              "  <script>\n",
              "    async function quickchart(key) {\n",
              "      const quickchartButtonEl =\n",
              "        document.querySelector('#' + key + ' button');\n",
              "      quickchartButtonEl.disabled = true;  // To prevent multiple clicks.\n",
              "      quickchartButtonEl.classList.add('colab-df-spinner');\n",
              "      try {\n",
              "        const charts = await google.colab.kernel.invokeFunction(\n",
              "            'suggestCharts', [key], {});\n",
              "      } catch (error) {\n",
              "        console.error('Error during call to suggestCharts:', error);\n",
              "      }\n",
              "      quickchartButtonEl.classList.remove('colab-df-spinner');\n",
              "      quickchartButtonEl.classList.add('colab-df-quickchart-complete');\n",
              "    }\n",
              "    (() => {\n",
              "      let quickchartButtonEl =\n",
              "        document.querySelector('#df-7a4b67bd-92a6-4b26-8c7f-561958fcbb57 button');\n",
              "      quickchartButtonEl.style.display =\n",
              "        google.colab.kernel.accessAllowed ? 'block' : 'none';\n",
              "    })();\n",
              "  </script>\n",
              "</div>\n",
              "    </div>\n",
              "  </div>\n"
            ],
            "text/plain": [
              "                     STATION_NA                   geometry\n",
              "35                        Jaslo  POINT (21.45462 49.74489)\n",
              "36                       Krosno  POINT (21.74970 49.69017)\n",
              "37                        Nisko  POINT (22.11247 50.52989)\n",
              "121                       Sanok  POINT (22.19589 49.57173)\n",
              "122                  Tarnobrzeg  POINT (21.68837 50.57574)\n",
              "136                    Jaroslaw  POINT (22.67477 50.01208)\n",
              "170                    Przemysl  POINT (22.75624 49.78434)\n",
              "171             Rzeszow_Rejtana  POINT (22.01058 50.02424)\n",
              "185                      Debica  POINT (21.41626 50.05479)\n",
              "188                      Mielec  POINT (21.44094 50.29913)\n",
              "210                      Mielec  POINT (21.48637 50.31804)\n",
              "214        Rzeszow_Pilsudskiego  POINT (22.00466 50.04068)\n",
              "216               Rymanow_Zdroj  POINT (21.85101 49.54654)\n",
              "277  Rzeszow, ul. Starzynskiego  POINT (21.98051 50.06038)\n",
              "278      Rzeszow, ul. Slocinska  POINT (22.04794 50.02486)\n",
              "279    Jedlicze, ul. Tokarskich  POINT (21.64151 49.71403)"
            ]
          },
          "execution_count": 87,
          "metadata": {},
          "output_type": "execute_result"
        }
      ],
      "source": [
        "for address in addresses:\n",
        "    matched_city = next((city for city in cities if city.split('_')[-1] in address), None)\n",
        "    if not matched_city:\n",
        "        continue\n",
        "\n",
        "    gdf_podkarpacie_cities.loc[gdf_podkarpacie_cities['STATION_NA'] == address, 'STATION_NA'] = matched_city\n",
        "\n",
        "gdf_podkarpacie_cities"
      ]
    },
    {
      "cell_type": "markdown",
      "metadata": {
        "id": "2keuuNWLhrTt"
      },
      "source": [
        "Lastly we will drop the rows which weren't matched. These rows will contatain a comma"
      ]
    },
    {
      "cell_type": "code",
      "execution_count": 88,
      "metadata": {
        "id": "y89h39XVwF3M"
      },
      "outputs": [],
      "source": [
        "for city in gdf_podkarpacie_cities['STATION_NA']:\n",
        "    if \",\" in city:\n",
        "        gdf_podkarpacie_cities = gdf_podkarpacie_cities.drop(gdf_podkarpacie_cities[gdf_podkarpacie_cities['STATION_NA'] == city].index)"
      ]
    },
    {
      "cell_type": "markdown",
      "metadata": {
        "id": "pjwe_2Kgh6ND"
      },
      "source": [
        "Some of our cities are duplicated. We don't need this much inforamtion so we will drop them"
      ]
    },
    {
      "cell_type": "code",
      "execution_count": 89,
      "metadata": {
        "id": "Igiz828SwF3M"
      },
      "outputs": [],
      "source": [
        "gdf_podkarpacie_cities = gdf_podkarpacie_cities.drop_duplicates(subset=['STATION_NA'])"
      ]
    },
    {
      "cell_type": "markdown",
      "metadata": {
        "id": "p4KXpXOpiHR4"
      },
      "source": [
        "Now let's see how our processed dataframe looks"
      ]
    },
    {
      "cell_type": "code",
      "execution_count": 90,
      "metadata": {
        "colab": {
          "base_uri": "https://localhost:8080/",
          "height": 426
        },
        "id": "rRyUgyAmwF3M",
        "outputId": "30c01832-2f3b-4742-f633-eb2ca9c88371"
      },
      "outputs": [
        {
          "data": {
            "text/html": [
              "\n",
              "  <div id=\"df-2d2d9189-bcf8-4d18-b791-dc84fafdd86c\" class=\"colab-df-container\">\n",
              "    <div>\n",
              "<style scoped>\n",
              "    .dataframe tbody tr th:only-of-type {\n",
              "        vertical-align: middle;\n",
              "    }\n",
              "\n",
              "    .dataframe tbody tr th {\n",
              "        vertical-align: top;\n",
              "    }\n",
              "\n",
              "    .dataframe thead th {\n",
              "        text-align: right;\n",
              "    }\n",
              "</style>\n",
              "<table border=\"1\" class=\"dataframe\">\n",
              "  <thead>\n",
              "    <tr style=\"text-align: right;\">\n",
              "      <th></th>\n",
              "      <th>STATION_NA</th>\n",
              "      <th>geometry</th>\n",
              "    </tr>\n",
              "  </thead>\n",
              "  <tbody>\n",
              "    <tr>\n",
              "      <th>35</th>\n",
              "      <td>Jaslo</td>\n",
              "      <td>POINT (21.45462 49.74489)</td>\n",
              "    </tr>\n",
              "    <tr>\n",
              "      <th>36</th>\n",
              "      <td>Krosno</td>\n",
              "      <td>POINT (21.74970 49.69017)</td>\n",
              "    </tr>\n",
              "    <tr>\n",
              "      <th>37</th>\n",
              "      <td>Nisko</td>\n",
              "      <td>POINT (22.11247 50.52989)</td>\n",
              "    </tr>\n",
              "    <tr>\n",
              "      <th>121</th>\n",
              "      <td>Sanok</td>\n",
              "      <td>POINT (22.19589 49.57173)</td>\n",
              "    </tr>\n",
              "    <tr>\n",
              "      <th>122</th>\n",
              "      <td>Tarnobrzeg</td>\n",
              "      <td>POINT (21.68837 50.57574)</td>\n",
              "    </tr>\n",
              "    <tr>\n",
              "      <th>136</th>\n",
              "      <td>Jaroslaw</td>\n",
              "      <td>POINT (22.67477 50.01208)</td>\n",
              "    </tr>\n",
              "    <tr>\n",
              "      <th>170</th>\n",
              "      <td>Przemysl</td>\n",
              "      <td>POINT (22.75624 49.78434)</td>\n",
              "    </tr>\n",
              "    <tr>\n",
              "      <th>171</th>\n",
              "      <td>Rzeszow_Rejtana</td>\n",
              "      <td>POINT (22.01058 50.02424)</td>\n",
              "    </tr>\n",
              "    <tr>\n",
              "      <th>185</th>\n",
              "      <td>Debica</td>\n",
              "      <td>POINT (21.41626 50.05479)</td>\n",
              "    </tr>\n",
              "    <tr>\n",
              "      <th>188</th>\n",
              "      <td>Mielec</td>\n",
              "      <td>POINT (21.44094 50.29913)</td>\n",
              "    </tr>\n",
              "    <tr>\n",
              "      <th>214</th>\n",
              "      <td>Rzeszow_Pilsudskiego</td>\n",
              "      <td>POINT (22.00466 50.04068)</td>\n",
              "    </tr>\n",
              "    <tr>\n",
              "      <th>216</th>\n",
              "      <td>Rymanow_Zdroj</td>\n",
              "      <td>POINT (21.85101 49.54654)</td>\n",
              "    </tr>\n",
              "  </tbody>\n",
              "</table>\n",
              "</div>\n",
              "    <div class=\"colab-df-buttons\">\n",
              "\n",
              "  <div class=\"colab-df-container\">\n",
              "    <button class=\"colab-df-convert\" onclick=\"convertToInteractive('df-2d2d9189-bcf8-4d18-b791-dc84fafdd86c')\"\n",
              "            title=\"Convert this dataframe to an interactive table.\"\n",
              "            style=\"display:none;\">\n",
              "\n",
              "  <svg xmlns=\"http://www.w3.org/2000/svg\" height=\"24px\" viewBox=\"0 -960 960 960\">\n",
              "    <path d=\"M120-120v-720h720v720H120Zm60-500h600v-160H180v160Zm220 220h160v-160H400v160Zm0 220h160v-160H400v160ZM180-400h160v-160H180v160Zm440 0h160v-160H620v160ZM180-180h160v-160H180v160Zm440 0h160v-160H620v160Z\"/>\n",
              "  </svg>\n",
              "    </button>\n",
              "\n",
              "  <style>\n",
              "    .colab-df-container {\n",
              "      display:flex;\n",
              "      gap: 12px;\n",
              "    }\n",
              "\n",
              "    .colab-df-convert {\n",
              "      background-color: #E8F0FE;\n",
              "      border: none;\n",
              "      border-radius: 50%;\n",
              "      cursor: pointer;\n",
              "      display: none;\n",
              "      fill: #1967D2;\n",
              "      height: 32px;\n",
              "      padding: 0 0 0 0;\n",
              "      width: 32px;\n",
              "    }\n",
              "\n",
              "    .colab-df-convert:hover {\n",
              "      background-color: #E2EBFA;\n",
              "      box-shadow: 0px 1px 2px rgba(60, 64, 67, 0.3), 0px 1px 3px 1px rgba(60, 64, 67, 0.15);\n",
              "      fill: #174EA6;\n",
              "    }\n",
              "\n",
              "    .colab-df-buttons div {\n",
              "      margin-bottom: 4px;\n",
              "    }\n",
              "\n",
              "    [theme=dark] .colab-df-convert {\n",
              "      background-color: #3B4455;\n",
              "      fill: #D2E3FC;\n",
              "    }\n",
              "\n",
              "    [theme=dark] .colab-df-convert:hover {\n",
              "      background-color: #434B5C;\n",
              "      box-shadow: 0px 1px 3px 1px rgba(0, 0, 0, 0.15);\n",
              "      filter: drop-shadow(0px 1px 2px rgba(0, 0, 0, 0.3));\n",
              "      fill: #FFFFFF;\n",
              "    }\n",
              "  </style>\n",
              "\n",
              "    <script>\n",
              "      const buttonEl =\n",
              "        document.querySelector('#df-2d2d9189-bcf8-4d18-b791-dc84fafdd86c button.colab-df-convert');\n",
              "      buttonEl.style.display =\n",
              "        google.colab.kernel.accessAllowed ? 'block' : 'none';\n",
              "\n",
              "      async function convertToInteractive(key) {\n",
              "        const element = document.querySelector('#df-2d2d9189-bcf8-4d18-b791-dc84fafdd86c');\n",
              "        const dataTable =\n",
              "          await google.colab.kernel.invokeFunction('convertToInteractive',\n",
              "                                                    [key], {});\n",
              "        if (!dataTable) return;\n",
              "\n",
              "        const docLinkHtml = 'Like what you see? Visit the ' +\n",
              "          '<a target=\"_blank\" href=https://colab.research.google.com/notebooks/data_table.ipynb>data table notebook</a>'\n",
              "          + ' to learn more about interactive tables.';\n",
              "        element.innerHTML = '';\n",
              "        dataTable['output_type'] = 'display_data';\n",
              "        await google.colab.output.renderOutput(dataTable, element);\n",
              "        const docLink = document.createElement('div');\n",
              "        docLink.innerHTML = docLinkHtml;\n",
              "        element.appendChild(docLink);\n",
              "      }\n",
              "    </script>\n",
              "  </div>\n",
              "\n",
              "\n",
              "<div id=\"df-ad9b887b-2746-4212-a035-7511edefdd80\">\n",
              "  <button class=\"colab-df-quickchart\" onclick=\"quickchart('df-ad9b887b-2746-4212-a035-7511edefdd80')\"\n",
              "            title=\"Suggest charts\"\n",
              "            style=\"display:none;\">\n",
              "\n",
              "<svg xmlns=\"http://www.w3.org/2000/svg\" height=\"24px\"viewBox=\"0 0 24 24\"\n",
              "     width=\"24px\">\n",
              "    <g>\n",
              "        <path d=\"M19 3H5c-1.1 0-2 .9-2 2v14c0 1.1.9 2 2 2h14c1.1 0 2-.9 2-2V5c0-1.1-.9-2-2-2zM9 17H7v-7h2v7zm4 0h-2V7h2v10zm4 0h-2v-4h2v4z\"/>\n",
              "    </g>\n",
              "</svg>\n",
              "  </button>\n",
              "\n",
              "<style>\n",
              "  .colab-df-quickchart {\n",
              "      --bg-color: #E8F0FE;\n",
              "      --fill-color: #1967D2;\n",
              "      --hover-bg-color: #E2EBFA;\n",
              "      --hover-fill-color: #174EA6;\n",
              "      --disabled-fill-color: #AAA;\n",
              "      --disabled-bg-color: #DDD;\n",
              "  }\n",
              "\n",
              "  [theme=dark] .colab-df-quickchart {\n",
              "      --bg-color: #3B4455;\n",
              "      --fill-color: #D2E3FC;\n",
              "      --hover-bg-color: #434B5C;\n",
              "      --hover-fill-color: #FFFFFF;\n",
              "      --disabled-bg-color: #3B4455;\n",
              "      --disabled-fill-color: #666;\n",
              "  }\n",
              "\n",
              "  .colab-df-quickchart {\n",
              "    background-color: var(--bg-color);\n",
              "    border: none;\n",
              "    border-radius: 50%;\n",
              "    cursor: pointer;\n",
              "    display: none;\n",
              "    fill: var(--fill-color);\n",
              "    height: 32px;\n",
              "    padding: 0;\n",
              "    width: 32px;\n",
              "  }\n",
              "\n",
              "  .colab-df-quickchart:hover {\n",
              "    background-color: var(--hover-bg-color);\n",
              "    box-shadow: 0 1px 2px rgba(60, 64, 67, 0.3), 0 1px 3px 1px rgba(60, 64, 67, 0.15);\n",
              "    fill: var(--button-hover-fill-color);\n",
              "  }\n",
              "\n",
              "  .colab-df-quickchart-complete:disabled,\n",
              "  .colab-df-quickchart-complete:disabled:hover {\n",
              "    background-color: var(--disabled-bg-color);\n",
              "    fill: var(--disabled-fill-color);\n",
              "    box-shadow: none;\n",
              "  }\n",
              "\n",
              "  .colab-df-spinner {\n",
              "    border: 2px solid var(--fill-color);\n",
              "    border-color: transparent;\n",
              "    border-bottom-color: var(--fill-color);\n",
              "    animation:\n",
              "      spin 1s steps(1) infinite;\n",
              "  }\n",
              "\n",
              "  @keyframes spin {\n",
              "    0% {\n",
              "      border-color: transparent;\n",
              "      border-bottom-color: var(--fill-color);\n",
              "      border-left-color: var(--fill-color);\n",
              "    }\n",
              "    20% {\n",
              "      border-color: transparent;\n",
              "      border-left-color: var(--fill-color);\n",
              "      border-top-color: var(--fill-color);\n",
              "    }\n",
              "    30% {\n",
              "      border-color: transparent;\n",
              "      border-left-color: var(--fill-color);\n",
              "      border-top-color: var(--fill-color);\n",
              "      border-right-color: var(--fill-color);\n",
              "    }\n",
              "    40% {\n",
              "      border-color: transparent;\n",
              "      border-right-color: var(--fill-color);\n",
              "      border-top-color: var(--fill-color);\n",
              "    }\n",
              "    60% {\n",
              "      border-color: transparent;\n",
              "      border-right-color: var(--fill-color);\n",
              "    }\n",
              "    80% {\n",
              "      border-color: transparent;\n",
              "      border-right-color: var(--fill-color);\n",
              "      border-bottom-color: var(--fill-color);\n",
              "    }\n",
              "    90% {\n",
              "      border-color: transparent;\n",
              "      border-bottom-color: var(--fill-color);\n",
              "    }\n",
              "  }\n",
              "</style>\n",
              "\n",
              "  <script>\n",
              "    async function quickchart(key) {\n",
              "      const quickchartButtonEl =\n",
              "        document.querySelector('#' + key + ' button');\n",
              "      quickchartButtonEl.disabled = true;  // To prevent multiple clicks.\n",
              "      quickchartButtonEl.classList.add('colab-df-spinner');\n",
              "      try {\n",
              "        const charts = await google.colab.kernel.invokeFunction(\n",
              "            'suggestCharts', [key], {});\n",
              "      } catch (error) {\n",
              "        console.error('Error during call to suggestCharts:', error);\n",
              "      }\n",
              "      quickchartButtonEl.classList.remove('colab-df-spinner');\n",
              "      quickchartButtonEl.classList.add('colab-df-quickchart-complete');\n",
              "    }\n",
              "    (() => {\n",
              "      let quickchartButtonEl =\n",
              "        document.querySelector('#df-ad9b887b-2746-4212-a035-7511edefdd80 button');\n",
              "      quickchartButtonEl.style.display =\n",
              "        google.colab.kernel.accessAllowed ? 'block' : 'none';\n",
              "    })();\n",
              "  </script>\n",
              "</div>\n",
              "    </div>\n",
              "  </div>\n"
            ],
            "text/plain": [
              "               STATION_NA                   geometry\n",
              "35                  Jaslo  POINT (21.45462 49.74489)\n",
              "36                 Krosno  POINT (21.74970 49.69017)\n",
              "37                  Nisko  POINT (22.11247 50.52989)\n",
              "121                 Sanok  POINT (22.19589 49.57173)\n",
              "122            Tarnobrzeg  POINT (21.68837 50.57574)\n",
              "136              Jaroslaw  POINT (22.67477 50.01208)\n",
              "170              Przemysl  POINT (22.75624 49.78434)\n",
              "171       Rzeszow_Rejtana  POINT (22.01058 50.02424)\n",
              "185                Debica  POINT (21.41626 50.05479)\n",
              "188                Mielec  POINT (21.44094 50.29913)\n",
              "214  Rzeszow_Pilsudskiego  POINT (22.00466 50.04068)\n",
              "216         Rymanow_Zdroj  POINT (21.85101 49.54654)"
            ]
          },
          "execution_count": 90,
          "metadata": {},
          "output_type": "execute_result"
        }
      ],
      "source": [
        "gdf_podkarpacie_cities"
      ]
    },
    {
      "cell_type": "markdown",
      "metadata": {
        "id": "P-vshpZXiJuF"
      },
      "source": [
        "## Visual analysis"
      ]
    },
    {
      "cell_type": "markdown",
      "metadata": {
        "id": "2vLBhCpjiOgF"
      },
      "source": [
        "Let's see how our cities are spatialy distributed on a simple plot"
      ]
    },
    {
      "cell_type": "code",
      "execution_count": 75,
      "metadata": {
        "colab": {
          "base_uri": "https://localhost:8080/",
          "height": 860
        },
        "id": "NL8cQ50UwF3G",
        "outputId": "34d708ea-36c6-440d-a50a-d529933fd3b9"
      },
      "outputs": [
        {
          "data": {
            "text/plain": [
              "<Axes: >"
            ]
          },
          "execution_count": 75,
          "metadata": {},
          "output_type": "execute_result"
        },
        {
          "data": {
            "image/png": "[encoded data removed]",
            "text/plain": [
              "<Figure size 640x480 with 1 Axes>"
            ]
          },
          "metadata": {},
          "output_type": "display_data"
        },
        {
          "data": {
            "image/png": "[encoded data removed]",
            "text/plain": [
              "<Figure size 640x480 with 1 Axes>"
            ]
          },
          "metadata": {},
          "output_type": "display_data"
        }
      ],
      "source": [
        "gdf_podkarpacie.plot()"
      ]
    },
    {
      "cell_type": "markdown",
      "metadata": {
        "id": "vIXVbZ4hiV9N"
      },
      "source": [
        "### Variograms\n",
        "Now let's investigate how few of our Variograms would look. Let's take the first 5 rows from our `pm10_df`"
      ]
    },
    {
      "cell_type": "code",
      "execution_count": 294,
      "metadata": {
        "colab": {
          "base_uri": "https://localhost:8080/",
          "height": 1000
        },
        "id": "HoT9OuSQwF3d",
        "outputId": "9b90a38d-89cd-4742-9069-0fd922b3b1bf"
      },
      "outputs": [
        {
          "data": {
            "image/png": "[encoded data removed]",
            "text/plain": [
              "<Figure size 800x500 with 2 Axes>"
            ]
          },
          "metadata": {},
          "output_type": "display_data"
        },
        {
          "data": {
            "image/png": "[encoded data removed]",
            "text/plain": [
              "<Figure size 800x500 with 2 Axes>"
            ]
          },
          "metadata": {},
          "output_type": "display_data"
        },
        {
          "data": {
            "image/png": "[encoded data removed]",
            "text/plain": [
              "<Figure size 800x500 with 2 Axes>"
            ]
          },
          "metadata": {},
          "output_type": "display_data"
        },
        {
          "data": {
            "image/png": "[encoded data removed]",
            "text/plain": [
              "<Figure size 800x500 with 2 Axes>"
            ]
          },
          "metadata": {},
          "output_type": "display_data"
        },
        {
          "data": {
            "image/png": "[encoded data removed]",
            "text/plain": [
              "<Figure size 800x500 with 2 Axes>"
            ]
          },
          "metadata": {},
          "output_type": "display_data"
        }
      ],
      "source": [
        "from skgstat import Variogram\n",
        "import matplotlib.pyplot as plt\n",
        "\n",
        "coordinates = gdf_podkarpacie_cities['geometry'].apply(lambda p: (p.x, p.y)).tolist()\n",
        "\n",
        "for _, row in pm10_df.head().iterrows():\n",
        "    row.name = \"contamination\"\n",
        "    data = gdf_podkarpacie_cities.join(row, on='STATION_NA')\n",
        "\n",
        "    values = list(map(float, data['contamination'].tolist()))\n",
        "\n",
        "    V = Variogram(coordinates, values, model='spherical', maxlag=20, n_lags=10)\n",
        "\n",
        "    fig = V.plot()\n",
        "    plt.show()"
      ]
    },
    {
      "cell_type": "markdown",
      "metadata": {
        "id": "McsiKaMdjESl"
      },
      "source": [
        "### Interpolation function"
      ]
    },
    {
      "cell_type": "markdown",
      "metadata": {
        "id": "lauD5oXfjbli"
      },
      "source": [
        "All of our coordinates will stay the same for all rows, so we can define maximum and minimum values here.\n",
        "We will also calculate the meshgrid for interpolations, as it will also stay the same"
      ]
    },
    {
      "cell_type": "code",
      "execution_count": 296,
      "metadata": {
        "id": "3dKDi14kwF3d"
      },
      "outputs": [],
      "source": [
        "max_x = max(point.x for point in gdf_podkarpacie_cities['geometry']) + .1\n",
        "max_y = max(point.y for point in gdf_podkarpacie_cities['geometry']) + .1\n",
        "min_x = min(point.x for point in gdf_podkarpacie_cities['geometry']) - .1\n",
        "min_y = min(point.y for point in gdf_podkarpacie_cities['geometry']) - .1\n",
        "\n",
        "xx, yy = np.mgrid[min_x:max_x:100j, min_y:max_y:100j]"
      ]
    },
    {
      "cell_type": "code",
      "execution_count": 295,
      "metadata": {
        "id": "5Sf01fs2wF3d"
      },
      "outputs": [],
      "source": [
        "import skgstat as skg\n",
        "\n",
        "\n",
        "def interpolate(V, ax, max_x, max_y, min_x, min_y):\n",
        "    ok = skg.OrdinaryKriging(V, min_points=5, max_points=15, mode='exact')\n",
        "    field = ok.transform(xx.flatten(), yy.flatten()).reshape(xx.shape)\n",
        "    return field"
      ]
    },
    {
      "cell_type": "markdown",
      "metadata": {
        "id": "qAZcYn_ejZjR"
      },
      "source": [
        "### Kriging plot"
      ]
    },
    {
      "cell_type": "markdown",
      "metadata": {
        "id": "kZMfiZ-wj3e6"
      },
      "source": [
        "We chose one point of interest which is a [Biedronka grocery store in Strzyzow](https://maps.apple.com/place?q=Biedronka&auid=334584916135679909&address=W%20Witosa%2017,%2038-100%20Strzy%C5%BC%C3%B3w,%20Poland&ll=49.8700714,21.7989596).\n",
        "We will calculate interpolations and statistics for this single point"
      ]
    },
    {
      "cell_type": "code",
      "execution_count": null,
      "metadata": {
        "id": "GZ6FCULPj2y2"
      },
      "outputs": [],
      "source": [
        "x_biedronka = 21.79\n",
        "y_biedronka = 49.87"
      ]
    },
    {
      "cell_type": "markdown",
      "metadata": {
        "id": "CGa68uoVkRSC"
      },
      "source": [
        "Let's plot one kriging and add cities with our Biedronka to it"
      ]
    },
    {
      "cell_type": "code",
      "execution_count": 275,
      "metadata": {
        "colab": {
          "base_uri": "https://localhost:8080/",
          "height": 532
        },
        "id": "7u0BqUUiwF3e",
        "outputId": "c3fe401d-34e7-4672-8ef1-02523ff38198"
      },
      "outputs": [
        {
          "name": "stderr",
          "output_type": "stream",
          "text": [
            "/usr/local/lib/python3.10/dist-packages/matplotlib/contour.py:1454: UserWarning: Warning: converting a masked element to nan.\n",
            "  self.zmax = float(z.max())\n",
            "/usr/local/lib/python3.10/dist-packages/matplotlib/contour.py:1455: UserWarning: Warning: converting a masked element to nan.\n",
            "  self.zmin = float(z.min())\n"
          ]
        },
        {
          "data": {
            "text/plain": [
              "<matplotlib.colorbar.Colorbar at 0x789a2bba5c60>"
            ]
          },
          "execution_count": 275,
          "metadata": {},
          "output_type": "execute_result"
        },
        {
          "data": {
            "image/png": "[encoded data removed]",
            "text/plain": [
              "<Figure size 640x480 with 2 Axes>"
            ]
          },
          "metadata": {},
          "output_type": "display_data"
        }
      ],
      "source": [
        "values = interpolate(V)\n",
        "\n",
        "plt.contourf(xx, yy, values, 100, cmap='plasma')\n",
        "plt.plot(gdf_podkarpacie_cities['geometry'].x, gdf_podkarpacie_cities['geometry'].y, 'k.')\n",
        "plt.plot([x_biedronka], [y_biedronka], 'w.')\n",
        "plt.text(x_biedronka, x_biedronka, 'biedronka', c='w')\n",
        "plt.colorbar()"
      ]
    },
    {
      "cell_type": "markdown",
      "metadata": {
        "id": "CSySD6jukerT"
      },
      "source": [
        "To find the interpolation values for our point we need to find the indexes in meshgrid"
      ]
    },
    {
      "cell_type": "code",
      "execution_count": null,
      "metadata": {
        "id": "b_ONybIZkbtj"
      },
      "outputs": [],
      "source": [
        "tolerance = 1e-2\n",
        "x_index = np.where(np.abs(xx - x_biedronka) < tolerance)[0][0]\n",
        "y_index = np.where(np.abs(yy - y_biedronka) < tolerance)[0][0]"
      ]
    },
    {
      "cell_type": "markdown",
      "metadata": {
        "id": "QFjG2wM3kmdF"
      },
      "source": [
        "### Single point interpolation function\n",
        "Now we can define a function that will return the value for our single point"
      ]
    },
    {
      "cell_type": "code",
      "execution_count": 313,
      "metadata": {
        "id": "Ca6myvbu16R_"
      },
      "outputs": [],
      "source": [
        "def interpolate_single_point(V):\n",
        "    ok = skg.OrdinaryKriging(V, min_points=1, max_points=15, mode='exact')\n",
        "    field = ok.transform(xx.flatten(), yy.flatten()).reshape(xx.shape)\n",
        "    return field[x_index][y_index]"
      ]
    },
    {
      "cell_type": "markdown",
      "metadata": {
        "id": "LTIEdtw3k02_"
      },
      "source": [
        "## Simulation calculations\n",
        "Now for each row we calulate the interpolation values for our point"
      ]
    },
    {
      "cell_type": "code",
      "execution_count": null,
      "metadata": {
        "colab": {
          "base_uri": "https://localhost:8080/"
        },
        "id": "aZKi4rENwF3e",
        "outputId": "fa25f616-f919-4d8b-a281-50515059bc19"
      },
      "outputs": [],
      "source": [
        "kriging_values = []\n",
        "\n",
        "for index, row in pm10_df.iterrows():\n",
        "    row.name = \"contamination\"\n",
        "    data = gdf_podkarpacie_cities.join(row, on='STATION_NA')\n",
        "    coordinates = gdf_podkarpacie_cities['geometry'].apply(lambda p: (p.x, p.y)).tolist()\n",
        "\n",
        "    values = list(map(float, data['contamination'].tolist()))\n",
        "\n",
        "    try:\n",
        "      V = Variogram(coordinates, values, model='spherical', maxlag=20, n_lags=10)\n",
        "    except RuntimeError as e:\n",
        "      print(f\"Error for row {index}:\\n{e}\")\n",
        "      continue\n",
        "\n",
        "    value = interpolate_single_point(V)\n",
        "    kriging_values.append(value)"
      ]
    },
    {
      "cell_type": "markdown",
      "metadata": {
        "id": "8JTIXi65lANO"
      },
      "source": [
        "## Statistics"
      ]
    },
    {
      "cell_type": "markdown",
      "metadata": {},
      "source": [
        "Now with many calculated kriging values for our point we can calculate some statistics and probability of this point value being above the 3rd quartile"
      ]
    },
    {
      "cell_type": "code",
      "execution_count": 91,
      "metadata": {
        "id": "zRripgRPquT6"
      },
      "outputs": [
        {
          "data": {
            "text/plain": [
              "1329"
            ]
          },
          "execution_count": 91,
          "metadata": {},
          "output_type": "execute_result"
        }
      ],
      "source": [
        "# Remove nans from krigin values\n",
        "kriging_values = [value for value in kriging_values if not np.isnan(value)]"
      ]
    },
    {
      "cell_type": "markdown",
      "metadata": {},
      "source": [
        "Let's see how many samples we have"
      ]
    },
    {
      "cell_type": "code",
      "execution_count": 104,
      "metadata": {},
      "outputs": [
        {
          "name": "stdout",
          "output_type": "stream",
          "text": [
            "Number of samples: 1030\n"
          ]
        }
      ],
      "source": [
        "print(f\"Number of samples: {len(kriging_values)}\")"
      ]
    },
    {
      "cell_type": "markdown",
      "metadata": {},
      "source": [
        "Next let's calculate some statistics for our point"
      ]
    },
    {
      "cell_type": "code",
      "execution_count": 96,
      "metadata": {},
      "outputs": [],
      "source": [
        "kriging_values_mean = np.mean(kriging_values)\n",
        "\n",
        "kriging_values_std = np.std(kriging_values)\n",
        "\n",
        "kriging_values_upper = kriging_values_mean + kriging_values_std\n",
        "kriging_values_lower = kriging_values_mean - kriging_values_std\n",
        "\n",
        "kriging_values_q1 = np.quantile(kriging_values, 0.25)\n",
        "kriging_values_q2 = np.quantile(kriging_values, 0.5)\n",
        "kriging_values_q3 = np.quantile(kriging_values, 0.75)"
      ]
    },
    {
      "cell_type": "code",
      "execution_count": 106,
      "metadata": {},
      "outputs": [
        {
          "name": "stdout",
          "output_type": "stream",
          "text": [
            "Mean:               13.5771\n",
            "Standard deviation: 6.7315\n",
            "Upper bound:        20.3086\n",
            "Lower bound:        6.8456\n",
            "Q1:                 8.6824\n",
            "Q2:                 12.2124\n",
            "Q3:                 16.8476\n",
            "Min:                3.3000\n",
            "Max:                38.9181\n"
          ]
        }
      ],
      "source": [
        "print(f\"Mean:               {kriging_values_mean:.4f}\")\n",
        "print(f\"Standard deviation: {kriging_values_std:.4f}\")\n",
        "print(f\"Upper bound:        {kriging_values_upper:.4f}\")\n",
        "print(f\"Lower bound:        {kriging_values_lower:.4f}\")\n",
        "print(f\"Q1:                 {kriging_values_q1:.4f}\")\n",
        "print(f\"Q2:                 {kriging_values_q2:.4f}\")\n",
        "print(f\"Q3:                 {kriging_values_q3:.4f}\")\n",
        "print(f\"Min:                {min(kriging_values):.4f}\")\n",
        "print(f\"Max:                {max(kriging_values):.4f}\")"
      ]
    },
    {
      "cell_type": "markdown",
      "metadata": {},
      "source": [
        "It will be easier to see on some plots"
      ]
    },
    {
      "cell_type": "code",
      "execution_count": 109,
      "metadata": {},
      "outputs": [
        {
          "data": {
            "text/plain": [
              "<matplotlib.lines.Line2D at 0x7f8759189c50>"
            ]
          },
          "execution_count": 109,
          "metadata": {},
          "output_type": "execute_result"
        },
        {
          "data": {
            "image/png": "[encoded data removed]",
            "text/plain": [
              "<Figure size 2000x500 with 3 Axes>"
            ]
          },
          "metadata": {},
          "output_type": "display_data"
        }
      ],
      "source": [
        "fig, axes = plt.subplots(1, 3, figsize=(20, 5))\n",
        "\n",
        "axes[0].boxplot(kriging_values)\n",
        "\n",
        "axes[1].violinplot(kriging_values)\n",
        "\n",
        "axes[2].hist(kriging_values, bins=20)\n",
        "axes[2].axvline(kriging_values_q1, color='red')\n",
        "axes[2].axvline(kriging_values_q2, color='red')\n",
        "axes[2].axvline(kriging_values_q3, color='red')"
      ]
    },
    {
      "cell_type": "markdown",
      "metadata": {},
      "source": [
        "## Results\n",
        "Finally let's calcualate the probability of the value being greater than the 3rd quartile"
      ]
    },
    {
      "cell_type": "code",
      "execution_count": 110,
      "metadata": {},
      "outputs": [
        {
          "name": "stdout",
          "output_type": "stream",
          "text": [
            "Probability: 0.2495\n"
          ]
        }
      ],
      "source": [
        "probability = len([value for value in kriging_values if value > kriging_values_q3]) / len(kriging_values)\n",
        "print(f\"Probability: {probability:.4f}\")"
      ]
    },
    {
      "cell_type": "code",
      "execution_count": null,
      "metadata": {},
      "outputs": [],
      "source": []
    }
  ],
  "metadata": {
    "colab": {
      "provenance": []
    },
    "kernelspec": {
      "display_name": "proc-stoc",
      "language": "python",
      "name": "python3"
    },
    "language_info": {
      "codemirror_mode": {
        "name": "ipython",
        "version": 3
      },
      "file_extension": ".py",
      "mimetype": "text/x-python",
      "name": "python",
      "nbconvert_exporter": "python",
      "pygments_lexer": "ipython3",
      "version": "3.11.5"
    }
  },
  "nbformat": 4,
  "nbformat_minor": 0
}
