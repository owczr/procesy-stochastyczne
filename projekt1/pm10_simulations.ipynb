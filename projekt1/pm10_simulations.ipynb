{
 "cells": [
  {
   "cell_type": "markdown",
   "metadata": {},
   "source": [
    "# PM10 Simulations"
   ]
  },
  {
   "cell_type": "code",
   "execution_count": 133,
   "metadata": {},
   "outputs": [],
   "source": [
    "import os\n",
    "import itertools\n",
    "from unidecode import unidecode\n",
    "\n",
    "import numpy as np\n",
    "import pandas as pd\n",
    "import geopandas as gpd\n",
    "import skgstat as skg\n",
    "import matplotlib.pyplot as plt\n",
    "from skgstat import Variogram\n",
    "\n",
    "\n",
    "VERBOSE = True  # Set to True to print out debug statements"
   ]
  },
  {
   "cell_type": "markdown",
   "metadata": {},
   "source": [
    "List with cities of interest"
   ]
  },
  {
   "cell_type": "code",
   "execution_count": 134,
   "metadata": {},
   "outputs": [],
   "source": [
    "cities = [\n",
    "    'Tarnobrzeg',\n",
    "    'Sanok',\n",
    "    'Rzeszow',\n",
    "    'Rymanow',\n",
    "    'Przemysl',\n",
    "    'Nisko',\n",
    "    'Mielec',\n",
    "    'Krosno',\n",
    "    'Jaslo',\n",
    "    'Jaroslaw',\n",
    "    'Debica',\n",
    "    'Jedlicze'\n",
    " ]"
   ]
  },
  {
   "cell_type": "markdown",
   "metadata": {},
   "source": [
    "## Load PM10 data"
   ]
  },
  {
   "cell_type": "markdown",
   "metadata": {},
   "source": [
    "### Read from csv file"
   ]
  },
  {
   "cell_type": "code",
   "execution_count": 166,
   "metadata": {},
   "outputs": [],
   "source": [
    "pm10_df = pd.read_csv('pm10.csv', index_col=0)"
   ]
  },
  {
   "cell_type": "markdown",
   "metadata": {},
   "source": [
    "### Drop missing values"
   ]
  },
  {
   "cell_type": "code",
   "execution_count": 167,
   "metadata": {},
   "outputs": [],
   "source": [
    "pm10_df['Debica'] = pm10_df['Debica'].replace(' ', np.nan)\n",
    "pm10_df['Debica'] = pm10_df['Debica'].astype(float)\n",
    "pm10_df = pm10_df.dropna(axis=1, how='any')\n",
    "pm10_df = pm10_df.set_index('Data')"
   ]
  },
  {
   "cell_type": "code",
   "execution_count": 173,
   "metadata": {},
   "outputs": [
    {
     "name": "stdout",
     "output_type": "stream",
     "text": [
      "        Tarnobrzeg        Sanok       Mielec     Jaroslaw\n",
      "count  2136.000000  2136.000000  2136.000000  2136.000000\n",
      "mean     23.298642    21.158614    22.088858    24.137594\n",
      "std      17.456536    18.821306    17.985507    21.434639\n",
      "min       3.800000     3.300000     3.100000     1.000000\n",
      "25%      12.200000     9.800000    11.500000    11.500000\n",
      "50%      19.400000    14.800000    17.500000    18.250000\n",
      "75%      28.425000    23.800000    26.625000    28.625000\n",
      "max     137.100000   165.100000   175.400000   190.600000\n"
     ]
    }
   ],
   "source": [
    "if VERBOSE:\n",
    "    print(pm10_df.head())\n",
    "    print(pm10_df.describe())"
   ]
  },
  {
   "cell_type": "markdown",
   "metadata": {},
   "source": [
    "## Load cities shapefile"
   ]
  },
  {
   "cell_type": "code",
   "execution_count": 138,
   "metadata": {},
   "outputs": [],
   "source": [
    "import geopandas as gpd\n",
    "\n",
    "shapefile_path = \"miasta/Wszystkie.shp\"\n",
    "gdf = gpd.read_file(shapefile_path)"
   ]
  },
  {
   "cell_type": "code",
   "execution_count": 139,
   "metadata": {},
   "outputs": [
    {
     "name": "stdout",
     "output_type": "stream",
     "text": [
      "                      INFO       STATION_CO                 STATION_NA  \\\n",
      "0    automatyczno-manualny     PmKosTargowa   Kościerzyna, ul. Targowa   \n",
      "1             automatyczny     PmMalMickiew   Malbork, ul. Mickiewicza   \n",
      "2    automatyczno-manualny     PmLebMalczew  Lębork, ul. Malczewskiego   \n",
      "3             automatyczny     PmLinieKosci       Liniewko Kościerskie   \n",
      "4             automatyczny     KpBydPlPozna   Bydgoszcz, pl. Poznański   \n",
      "..                     ...              ...                        ...   \n",
      "282  automatyczno-manualny     WpPoznSzwajc     Poznań ul. Szwajcarska   \n",
      "283           automatyczny     WpMosinaCzer    Mosina, ul. Czereśniowa   \n",
      "284  automatyczno-manualny     OpBrzegPoprz      Brzeg, ul. Poprzeczna   \n",
      "285  automatyczno-manualny     LuNowaSolKos                   Nowa Sól   \n",
      "286  automatyczno-manualny  MpWadowiBalyMOB       Wadowice, ul. Bałysa   \n",
      "\n",
      "                       ADDRESS                   geometry  \n",
      "0     Kościerzyna, ul. Targowa  POINT (17.97586 54.12069)  \n",
      "1     Malbork, ul. Mickiewicza  POINT (19.03290 54.03125)  \n",
      "2    Lębork, ul. Malczewskiego  POINT (17.74619 54.54617)  \n",
      "3        Liniewko Kościerskie,  POINT (18.18297 54.10411)  \n",
      "4    Bydgoszcz, Plac Poznański  POINT (17.98791 53.12176)  \n",
      "..                         ...                        ...  \n",
      "282    Poznań, ul. Szwajcarska  POINT (16.99805 52.39088)  \n",
      "283  Mosina, ul. Czereśniowa 4  POINT (16.86513 52.24150)  \n",
      "284    Brzeg, ul. Poprzeczna 1  POINT (17.46258 50.84951)  \n",
      "285    Nowa Sól, T. Kościuszki  POINT (15.70804 51.80910)  \n",
      "286           Wadowice, Bałysa  POINT (19.49747 49.87236)  \n",
      "\n",
      "[287 rows x 5 columns]\n",
      "['Kościerzyna, ul. Targowa' 'Malbork, ul. Mickiewicza'\n",
      " 'Lębork, ul. Malczewskiego' 'Liniewko Kościerskie'\n",
      " 'Bydgoszcz, pl. Poznański' 'Bydgoszcz, ul. Warszawska'\n",
      " 'Ciechocinek, ul. Tężniowa' 'Radomsko, ul. Rolna'\n",
      " 'Grudziądz, ul. Sienkiewicza' 'Koniczynka, Pojezierze Chełmińskie'\n",
      " 'Jarczew, IMGW' 'Kraśnik, ul. Koszarowa' 'Lublin, ul. Śliwińskiego'\n",
      " 'Lublin, ul. Obywatelska' 'Radzyń Podlaski, ul. Sitkowskiego'\n",
      " 'Toruń, ul. Dziewulskiego' 'Toruń, ul. Przy Kaszowniku'\n",
      " 'Włocławek, ul. Okrzei' 'Zielonka, Bory Tucholskie'\n",
      " 'Biała Podlaska, ul. Orzechowa' 'Oława, ul. Żołnierzy Armii Krajowej'\n",
      " 'Oleśnica, ul. Brzozowa' 'Osieczów' 'Polkowice, ul. Kasztanowa' 'Śnieżka'\n",
      " 'Szczawno-Zdrój, ul. Kolejowa' 'Gajew, Ujęcie Wody' 'Łódź, ul. Czernika'\n",
      " 'Łódź, ul. Gdańska' 'Łódź, ul. Legionów' 'Łódź, ul. Rudzka'\n",
      " 'Pabianice, ul. Konstantynowska' 'Pabianice, ul. Kilińskiego'\n",
      " 'Parzniewice, Ujęcie Wody'\n",
      " 'Piotrków Trybunalski, ul. Krakowskie Przedmieście'\n",
      " 'Jaslo, ul. Sikorskiego' 'Krosno, ul. Kletówki' 'Nisko, ul. Szklarniowa'\n",
      " 'Wrocław, ul. Bartnicza' 'Wrocław, ul. Na Grobli'\n",
      " 'Wrocław, wyb. Conrada-Korzeniowskiego' 'Wrocław, ul. Orzechowa'\n",
      " 'Wrocław, al. Wiśniowa' 'Zgorzelec, ul. Bohaterów Getta'\n",
      " 'Gdańsk, ul. Wyzwolenia' 'Gdynia, ul. Porębskiego' 'Gdańsk, ul. Leczkowa'\n",
      " 'Wilczopole' 'Szczecin, ul. Piłsudskiego' 'Grudziądz, ul. Piłsudskiego'\n",
      " 'Inowrocław, ul. Solankowa' 'Toruń, ul. Wały gen. Sikorskiego'\n",
      " 'Bydgoszcz, ul. Fieldorfa' 'Wałbrzych, ul. Wysockiego'\n",
      " 'Zamość, ul. Hrubieszowska' 'Brzeziny, ul. Reformacka' 'Czerniawa'\n",
      " 'Dzierżoniów, ul. Piłsudskiego' 'Kłodzko, ul. Szkolna'\n",
      " 'Legnica, al. Rzeczypospolitej' 'Myślibórz, ul. Za Bramką'\n",
      " 'Szczecinek, ul. 1 Maja' 'Szczecinek, ul. Przemysłowa'\n",
      " 'Szczecin, ul. Andrzejewskiego' 'Wschowa ul. Kazimierza Wielkiego'\n",
      " 'Żary, ul. Szymanowskiego' 'Zielona Góra ul. Krótka'\n",
      " 'Bochnia, ul. Konfederatów Barskich' 'Gorlice, ul. Krasińskiego'\n",
      " 'Warszawa, ul. Tołstoja' 'Warszawa, ul. Wokalna'\n",
      " 'Warszawa, ul. Kondratowicza' 'Żyrardów, ul. Roosevelta'\n",
      " 'Kędzierzyn-Koźle, ul. Śmiałego' 'Kluczbork, ul. Mickiewicza'\n",
      " 'Olesno, ul. Słowackiego' 'Opole, os. Armii Krajowej'\n",
      " 'Zdzieszowice, ul. Piastów' 'Kraków, Aleja Krasińskiego'\n",
      " 'Kraków, ul. Bujaka' 'Kraków, ul. Bulwarowa' 'Nowy Sącz, ul. Nadbrzeżna'\n",
      " 'Skawina, os. Ogrody' 'Szymbark' 'Tarnów, ul. Bitwy pod Studziankami'\n",
      " 'Trzebinia, os. Związku Walki Młodych' 'Tuchów, ul. Chopina'\n",
      " 'Niepołomice, ul. 3 Maja' 'Zakopane, ul. Sienkiewicza'\n",
      " 'Belsk Duży, IGF PAN' 'Granica, KPN' 'Legionowo, ul. Zegrzyńska'\n",
      " 'Otwock, ul. Brzozowa' 'Piastów, ul. Pułaskiego'\n",
      " 'Płock, ul. Królowej Jadwigi' 'Płock, ul. Reja' 'Radom, ul. 25 Czerwca'\n",
      " 'Radom, ul. Hallera' 'Siedlce, ul. Konarskiego'\n",
      " 'Warszawa, al. Niepodległości' 'Warszawa, ul. Krzywoń'\n",
      " 'Radom, ul. Tochtermana' 'Rawa Mazowiecka, ul. Niepodległości'\n",
      " 'Tomaszów Mazowiecki ul. Św. Antoniego' 'Wieluń, ul. POW'\n",
      " 'Zduńska Wola, ul. Królewska' 'Zgierz, ul. Mielczarskiego'\n",
      " 'Poznań, ul. Spychalskiego' 'Poznań, ul. Szymanowskiego'\n",
      " 'Wągrowiec, ul. Lipowa' 'Poznań, ul. Dąbrowskiego' 'Piaski, Krzyżówka'\n",
      " 'Borówiec, ul. Drapałka' 'Kalisz, ul. Wyszyńskiego' 'Widuchowa'\n",
      " 'Koszalin, ul. Armii Krajowej' 'Koszalin, ul. Spasowskiego'\n",
      " 'Gorzów Wlkp. ul. Kosynierów Gdyńskich' 'Gorzów Wlkp. ul. Piłsudskiego'\n",
      " 'Smolary Bytnickie' 'Sulęcin ul. Dudka' 'Sanok, ul. Sadowa'\n",
      " 'Tarnobrzeg, ul. Dąbrowskiej' 'Gliwice, ul. Mewy' 'Godów, ul. Gliniki'\n",
      " 'Katowice, ul. Plebiscytowa/A4' 'Katowice, ul. Kossutha'\n",
      " 'Knurów, ul. Jedności Narodowej' 'Myszków, ul. Miedziana'\n",
      " 'Pszczyna, ul. Bogedaina' 'Nidzica, ul.Traugutta' 'Olsztyn, ul. Puszkina'\n",
      " 'Białystok, ul. Waszyngtona' 'Białystok, ul. Warszawska'\n",
      " 'Borsukowizna, Szkółka Leśna' 'Łomża, ul. Sikorskiego'\n",
      " 'Jarosław, ul. Pruchnicka' 'Rybnik, ul. Borki' 'Sosnowiec, ul. Lubelska'\n",
      " 'Tarnowskie Góry, ul. Litewska' 'Tychy, ul. Tołstoja'\n",
      " 'Ustroń, ul. Sanatoryjna' 'Wodzisław Śląski, ul. Gałczyńskiego'\n",
      " 'Zabrze, ul. M. Curie-Skłodowskiej' 'Złoty Potok, Leśniczówka'\n",
      " 'Żywiec, ul. Kopernika' 'Elbląg, ul. Bażyńskiego' 'Gołdap, ul. Jaćwieska'\n",
      " 'Nowiny, ul. Parkowa' 'Diabla Góra, Puszcza Borecka'\n",
      " 'Gniezno, ul. Paczkowskiego' 'Konin, ul. Wyszyńskiego'\n",
      " 'Leszno, ul. Kiepury' 'Nowy Tomyśl, ul. Sienkiewicza'\n",
      " 'Ostrów Wielkopolski, ul. Wysocka' 'Pila, ul. Kusocińskiego'\n",
      " 'Ożarów, os. Wzgórze' 'Połaniec, ul. Ruszczańska'\n",
      " 'Starachowice, ul. Złota' 'Bielsko-Biała, ul. Kossak-Szczuckiej'\n",
      " 'Bielsko-Biała, ul. Sternicza' 'Częstochowa, ul. AK/Jana Pawła II'\n",
      " 'Częstochowa, ul. Baczyńskiego' 'Częstochowa, ul. Zana'\n",
      " 'Dąbrowa Górnicza, ul. Tysiąclecia'\n",
      " 'Gdańsk, ul. Powstańców Wielkopolskich' 'Słupsk, ul. Kniaziewicza'\n",
      " 'Kwidzyn, ul. Sportowa' 'Łeba, IMGW' 'Busko-Zdrój, ul. Rokosza'\n",
      " 'Przemyśl, ul. Grunwaldzka' 'Rzeszów, ul. Rejtana'\n",
      " 'Kołobrzeg, ul. Żółkiewskiego' 'Koszalin, ul. Chopina'\n",
      " 'Głogów, ul. Wita Stwosza' 'Muszyna, Lodowisko'\n",
      " 'Czerwionka-Leszczyny, ul. Kopalniana' 'Pleszew, Al. Mickiewicza'\n",
      " 'Kościan, ul. Maya' 'Zabierzów, ul. Wapienna' 'Głubczyce, ul. Ratuszowa'\n",
      " 'Kraków, os. Piastów' 'Sieradz, ul. Polna' 'Świdnica, ul. Folwarczna'\n",
      " 'Guty Duże' 'Dębica, ul.Grottgera' 'Szarów, ul. Spokojna'\n",
      " 'Opole, ul. Koszyka' 'Mielec, ul. Biernackiego' 'Rabka-Zdrój, ul. Orkana'\n",
      " 'Kraków, os. Wadów' 'Nakło nad Notecią, ul. Św. Wawrzyńca'\n",
      " 'Iława, ul.Andersa' 'Ostróda, ul. Piłsudskiego'\n",
      " 'Jelenia Góra, ul. Sokoliki' 'Krempna, Ośrodek edukacyjno-muzealny MPN'\n",
      " 'Włocławek, ul. Gniazdowskiego' 'Polanica-Zdrój al. Zwycięzców' 'Kaszów'\n",
      " 'Opoczno, ul. Skłodowskiej-Curie' 'Grajewo, ul. Wojska Polskiego'\n",
      " 'Brodnica, ul. Kochanowskiego' 'Bielsko-Biała, ul.Partyzantów'\n",
      " 'Augustów, Uzdrowisko' 'Kraków, os. Swoszowice' 'Łódź, al. Jana Pawła II'\n",
      " 'Kielce, ul. Warszawska 210' 'Włoszczowa, ul. Kilińskiego'\n",
      " 'Kraków, ul. Złoty Róg' 'Włocławek, ul. Kaliska' 'Mielec, ul. Pogodna'\n",
      " 'Jelenia Góra, ul. Ogińskiego' 'Ostrołęka, ul. Hallera'\n",
      " 'Iwonicz Zdrój, ul. Rąba' 'Rzeszów, ul. Piłsudskiego'\n",
      " 'Stalowa Wola, ul. Wojska Polskiego' 'Rymanów Zdrój, ul. Parkowa'\n",
      " 'Koziegłowy, os.Leśne' 'Skierniewice, ul. Konopnickiej'\n",
      " 'Ełk, ul. Piłsudskiego' 'Bełchatów, ul. Edwardów' 'Solec-Zdrój'\n",
      " 'Łowicz, ul. Sienkiewicza' 'Nysa, ul. Rodziewiczówny'\n",
      " 'Żory, Os. Gen. Władysława Sikorskiego' 'Tarnów, ul. Ks. Romana Sitko'\n",
      " 'Kraków, ul. Dietla' 'Uniejów, ul. Zamkowa'\n",
      " 'Sucha Beskidzka, ul. Nieszczyńskiej' 'Warszawa, ul. Bajkowa'\n",
      " 'Legnica, ul. Polarna' 'Międzyrzecz ul. Komisji Edukacji Narodowej'\n",
      " 'Kielce, ul. Warszawska 108' 'Warszawa, ul. Chrościckiego'\n",
      " 'Lubliniec, ul. ks. Szymały' 'Pułtusk, ul. Mickiewicza'\n",
      " 'Nowy Targ, al. Tysiąclecia' 'Goczałkowice Zdrój, ul. Parkowa'\n",
      " 'Łask, ul. Narutowicza' 'Gołuchów, Ujęcie Wody' 'Myślenice'\n",
      " 'Nowe Miasto Lubawskie, ul. Działyńskich'\n",
      " 'Łuków, Bulwar 100-lecia Odzyskania Niepodległości'\n",
      " 'Konstancin-Jeziorna, ul. Żeromskiego' 'Krapkowice, ul. 3 Maja'\n",
      " 'Racibórz, Wojska Polskiego' 'Biała, ul. Kmicica'\n",
      " 'Białystok, ul. 42 Pułku Piechoty' 'Kielce, ul. Targowa'\n",
      " 'Chełm, ul. Połaniecka' 'Trzebnica, ul. 3 Maja' 'Strzegom'\n",
      " 'Ustka, ul. Rybacka' 'Jastrzębie-Zdrój, Al.J.Piłsudskiego/Harcerska'\n",
      " 'Suwałki, ul. Pułaskiego 26' 'Zielona Góra,ul.Wyszyńskiego'\n",
      " 'Lwówek Śląski, al. Wojska Polskiego' 'Florianka, RPN'\n",
      " 'Łagów, ul. Zapłotnia' 'Opatów, ul. Partyzantów'\n",
      " 'Białystok, al.Piłsudskiego' 'Nowa Ruda, ul. Jeziorna'\n",
      " 'Nałęczów, al. Małachowskiego' 'Zawiercie, ul. K.I.Gałczyńskiego'\n",
      " 'Świecie, al. Jana Pawła II' 'Krasnobród, ul. Sanatoryjna'\n",
      " 'Wieniec Zdrój, ul. Wieniecka' 'Wejherowo, ul. Dworcowa'\n",
      " 'Oświęcim, ul. J. Bema' 'Sopot, ul. Bitwy Pod Płowcami'\n",
      " 'Cieszyn, ul. Chopina' 'Małogoszcz, ul. Słoneczna'\n",
      " 'Olkusz, ul. Cegielniana' 'Kutno, ul. 1 Maja'\n",
      " 'Świnoujście, ul. J. Matejki' 'Kielce, ul. Jurajska'\n",
      " 'Kętrzyn, ul. Wojska Polskiego' 'Rzeszów, ul. Starzyńskiego'\n",
      " 'Rzeszów, ul. Słocińska' 'Jedlicze, ul. Tokarskich' 'Kępno ul. Sportowa'\n",
      " 'Warszawa, IMiGW' 'Poznań ul. Szwajcarska' 'Mosina, ul. Czereśniowa'\n",
      " 'Brzeg, ul. Poprzeczna' 'Nowa Sól' 'Wadowice, ul. Bałysa']\n"
     ]
    }
   ],
   "source": [
    "if VERBOSE:\n",
    "    print(gdf.head())\n",
    "    print(gdf['STATION_NA'].unique())"
   ]
  },
  {
   "cell_type": "markdown",
   "metadata": {},
   "source": [
    "### Remove polish signs"
   ]
  },
  {
   "cell_type": "code",
   "execution_count": 140,
   "metadata": {},
   "outputs": [],
   "source": [
    "for col in gdf.select_dtypes(include=[object]):\n",
    "    gdf[col] = gdf[col].apply(unidecode)"
   ]
  },
  {
   "cell_type": "code",
   "execution_count": 174,
   "metadata": {},
   "outputs": [
    {
     "name": "stdout",
     "output_type": "stream",
     "text": [
      "['Koscierzyna, ul. Targowa' 'Malbork, ul. Mickiewicza'\n",
      " 'Lebork, ul. Malczewskiego' 'Liniewko Koscierskie'\n",
      " 'Bydgoszcz, pl. Poznanski' 'Bydgoszcz, ul. Warszawska'\n",
      " 'Ciechocinek, ul. Tezniowa' 'Radomsko, ul. Rolna'\n",
      " 'Grudziadz, ul. Sienkiewicza' 'Koniczynka, Pojezierze Chelminskie'\n",
      " 'Jarczew, IMGW' 'Krasnik, ul. Koszarowa' 'Lublin, ul. Sliwinskiego'\n",
      " 'Lublin, ul. Obywatelska' 'Radzyn Podlaski, ul. Sitkowskiego'\n",
      " 'Torun, ul. Dziewulskiego' 'Torun, ul. Przy Kaszowniku'\n",
      " 'Wloclawek, ul. Okrzei' 'Zielonka, Bory Tucholskie'\n",
      " 'Biala Podlaska, ul. Orzechowa' 'Olawa, ul. Zolnierzy Armii Krajowej'\n",
      " 'Olesnica, ul. Brzozowa' 'Osieczow' 'Polkowice, ul. Kasztanowa' 'Sniezka'\n",
      " 'Szczawno-Zdroj, ul. Kolejowa' 'Gajew, Ujecie Wody' 'Lodz, ul. Czernika'\n",
      " 'Lodz, ul. Gdanska' 'Lodz, ul. Legionow' 'Lodz, ul. Rudzka'\n",
      " 'Pabianice, ul. Konstantynowska' 'Pabianice, ul. Kilinskiego'\n",
      " 'Parzniewice, Ujecie Wody'\n",
      " 'Piotrkow Trybunalski, ul. Krakowskie Przedmiescie'\n",
      " 'Jaslo, ul. Sikorskiego' 'Krosno, ul. Kletowki' 'Nisko, ul. Szklarniowa'\n",
      " 'Wroclaw, ul. Bartnicza' 'Wroclaw, ul. Na Grobli'\n",
      " 'Wroclaw, wyb. Conrada-Korzeniowskiego' 'Wroclaw, ul. Orzechowa'\n",
      " 'Wroclaw, al. Wisniowa' 'Zgorzelec, ul. Bohaterow Getta'\n",
      " 'Gdansk, ul. Wyzwolenia' 'Gdynia, ul. Porebskiego' 'Gdansk, ul. Leczkowa'\n",
      " 'Wilczopole' 'Szczecin, ul. Pilsudskiego' 'Grudziadz, ul. Pilsudskiego'\n",
      " 'Inowroclaw, ul. Solankowa' 'Torun, ul. Waly gen. Sikorskiego'\n",
      " 'Bydgoszcz, ul. Fieldorfa' 'Walbrzych, ul. Wysockiego'\n",
      " 'Zamosc, ul. Hrubieszowska' 'Brzeziny, ul. Reformacka' 'Czerniawa'\n",
      " 'Dzierzoniow, ul. Pilsudskiego' 'Klodzko, ul. Szkolna'\n",
      " 'Legnica, al. Rzeczypospolitej' 'Mysliborz, ul. Za Bramka'\n",
      " 'Szczecinek, ul. 1 Maja' 'Szczecinek, ul. Przemyslowa'\n",
      " 'Szczecin, ul. Andrzejewskiego' 'Wschowa ul. Kazimierza Wielkiego'\n",
      " 'Zary, ul. Szymanowskiego' 'Zielona Gora ul. Krotka'\n",
      " 'Bochnia, ul. Konfederatow Barskich' 'Gorlice, ul. Krasinskiego'\n",
      " 'Warszawa, ul. Tolstoja' 'Warszawa, ul. Wokalna'\n",
      " 'Warszawa, ul. Kondratowicza' 'Zyrardow, ul. Roosevelta'\n",
      " 'Kedzierzyn-Kozle, ul. Smialego' 'Kluczbork, ul. Mickiewicza'\n",
      " 'Olesno, ul. Slowackiego' 'Opole, os. Armii Krajowej'\n",
      " 'Zdzieszowice, ul. Piastow' 'Krakow, Aleja Krasinskiego'\n",
      " 'Krakow, ul. Bujaka' 'Krakow, ul. Bulwarowa' 'Nowy Sacz, ul. Nadbrzezna'\n",
      " 'Skawina, os. Ogrody' 'Szymbark' 'Tarnow, ul. Bitwy pod Studziankami'\n",
      " 'Trzebinia, os. Zwiazku Walki Mlodych' 'Tuchow, ul. Chopina'\n",
      " 'Niepolomice, ul. 3 Maja' 'Zakopane, ul. Sienkiewicza'\n",
      " 'Belsk Duzy, IGF PAN' 'Granica, KPN' 'Legionowo, ul. Zegrzynska'\n",
      " 'Otwock, ul. Brzozowa' 'Piastow, ul. Pulaskiego'\n",
      " 'Plock, ul. Krolowej Jadwigi' 'Plock, ul. Reja' 'Radom, ul. 25 Czerwca'\n",
      " 'Radom, ul. Hallera' 'Siedlce, ul. Konarskiego'\n",
      " 'Warszawa, al. Niepodleglosci' 'Warszawa, ul. Krzywon'\n",
      " 'Radom, ul. Tochtermana' 'Rawa Mazowiecka, ul. Niepodleglosci'\n",
      " 'Tomaszow Mazowiecki ul. Sw. Antoniego' 'Wielun, ul. POW'\n",
      " 'Zdunska Wola, ul. Krolewska' 'Zgierz, ul. Mielczarskiego'\n",
      " 'Poznan, ul. Spychalskiego' 'Poznan, ul. Szymanowskiego'\n",
      " 'Wagrowiec, ul. Lipowa' 'Poznan, ul. Dabrowskiego' 'Piaski, Krzyzowka'\n",
      " 'Borowiec, ul. Drapalka' 'Kalisz, ul. Wyszynskiego' 'Widuchowa'\n",
      " 'Koszalin, ul. Armii Krajowej' 'Koszalin, ul. Spasowskiego'\n",
      " 'Gorzow Wlkp. ul. Kosynierow Gdynskich' 'Gorzow Wlkp. ul. Pilsudskiego'\n",
      " 'Smolary Bytnickie' 'Sulecin ul. Dudka' 'Sanok, ul. Sadowa'\n",
      " 'Tarnobrzeg, ul. Dabrowskiej' 'Gliwice, ul. Mewy' 'Godow, ul. Gliniki'\n",
      " 'Katowice, ul. Plebiscytowa/A4' 'Katowice, ul. Kossutha'\n",
      " 'Knurow, ul. Jednosci Narodowej' 'Myszkow, ul. Miedziana'\n",
      " 'Pszczyna, ul. Bogedaina' 'Nidzica, ul.Traugutta' 'Olsztyn, ul. Puszkina'\n",
      " 'Bialystok, ul. Waszyngtona' 'Bialystok, ul. Warszawska'\n",
      " 'Borsukowizna, Szkolka Lesna' 'Lomza, ul. Sikorskiego'\n",
      " 'Jaroslaw, ul. Pruchnicka' 'Rybnik, ul. Borki' 'Sosnowiec, ul. Lubelska'\n",
      " 'Tarnowskie Gory, ul. Litewska' 'Tychy, ul. Tolstoja'\n",
      " 'Ustron, ul. Sanatoryjna' 'Wodzislaw Slaski, ul. Galczynskiego'\n",
      " 'Zabrze, ul. M. Curie-Sklodowskiej' 'Zloty Potok, Lesniczowka'\n",
      " 'Zywiec, ul. Kopernika' 'Elblag, ul. Bazynskiego' 'Goldap, ul. Jacwieska'\n",
      " 'Nowiny, ul. Parkowa' 'Diabla Gora, Puszcza Borecka'\n",
      " 'Gniezno, ul. Paczkowskiego' 'Konin, ul. Wyszynskiego'\n",
      " 'Leszno, ul. Kiepury' 'Nowy Tomysl, ul. Sienkiewicza'\n",
      " 'Ostrow Wielkopolski, ul. Wysocka' 'Pila, ul. Kusocinskiego'\n",
      " 'Ozarow, os. Wzgorze' 'Polaniec, ul. Ruszczanska'\n",
      " 'Starachowice, ul. Zlota' 'Bielsko-Biala, ul. Kossak-Szczuckiej'\n",
      " 'Bielsko-Biala, ul. Sternicza' 'Czestochowa, ul. AK/Jana Pawla II'\n",
      " 'Czestochowa, ul. Baczynskiego' 'Czestochowa, ul. Zana'\n",
      " 'Dabrowa Gornicza, ul. Tysiaclecia'\n",
      " 'Gdansk, ul. Powstancow Wielkopolskich' 'Slupsk, ul. Kniaziewicza'\n",
      " 'Kwidzyn, ul. Sportowa' 'Leba, IMGW' 'Busko-Zdroj, ul. Rokosza'\n",
      " 'Przemysl, ul. Grunwaldzka' 'Rzeszow, ul. Rejtana'\n",
      " 'Kolobrzeg, ul. Zolkiewskiego' 'Koszalin, ul. Chopina'\n",
      " 'Glogow, ul. Wita Stwosza' 'Muszyna, Lodowisko'\n",
      " 'Czerwionka-Leszczyny, ul. Kopalniana' 'Pleszew, Al. Mickiewicza'\n",
      " 'Koscian, ul. Maya' 'Zabierzow, ul. Wapienna' 'Glubczyce, ul. Ratuszowa'\n",
      " 'Krakow, os. Piastow' 'Sieradz, ul. Polna' 'Swidnica, ul. Folwarczna'\n",
      " 'Guty Duze' 'Debica, ul.Grottgera' 'Szarow, ul. Spokojna'\n",
      " 'Opole, ul. Koszyka' 'Mielec, ul. Biernackiego' 'Rabka-Zdroj, ul. Orkana'\n",
      " 'Krakow, os. Wadow' 'Naklo nad Notecia, ul. Sw. Wawrzynca'\n",
      " 'Ilawa, ul.Andersa' 'Ostroda, ul. Pilsudskiego'\n",
      " 'Jelenia Gora, ul. Sokoliki' 'Krempna, Osrodek edukacyjno-muzealny MPN'\n",
      " 'Wloclawek, ul. Gniazdowskiego' 'Polanica-Zdroj al. Zwyciezcow' 'Kaszow'\n",
      " 'Opoczno, ul. Sklodowskiej-Curie' 'Grajewo, ul. Wojska Polskiego'\n",
      " 'Brodnica, ul. Kochanowskiego' 'Bielsko-Biala, ul.Partyzantow'\n",
      " 'Augustow, Uzdrowisko' 'Krakow, os. Swoszowice' 'Lodz, al. Jana Pawla II'\n",
      " 'Kielce, ul. Warszawska 210' 'Wloszczowa, ul. Kilinskiego'\n",
      " 'Krakow, ul. Zloty Rog' 'Wloclawek, ul. Kaliska' 'Mielec, ul. Pogodna'\n",
      " 'Jelenia Gora, ul. Oginskiego' 'Ostroleka, ul. Hallera'\n",
      " 'Iwonicz Zdroj, ul. Raba' 'Rzeszow, ul. Pilsudskiego'\n",
      " 'Stalowa Wola, ul. Wojska Polskiego' 'Rymanow Zdroj, ul. Parkowa'\n",
      " 'Kozieglowy, os.Lesne' 'Skierniewice, ul. Konopnickiej'\n",
      " 'Elk, ul. Pilsudskiego' 'Belchatow, ul. Edwardow' 'Solec-Zdroj'\n",
      " 'Lowicz, ul. Sienkiewicza' 'Nysa, ul. Rodziewiczowny'\n",
      " 'Zory, Os. Gen. Wladyslawa Sikorskiego' 'Tarnow, ul. Ks. Romana Sitko'\n",
      " 'Krakow, ul. Dietla' 'Uniejow, ul. Zamkowa'\n",
      " 'Sucha Beskidzka, ul. Nieszczynskiej' 'Warszawa, ul. Bajkowa'\n",
      " 'Legnica, ul. Polarna' 'Miedzyrzecz ul. Komisji Edukacji Narodowej'\n",
      " 'Kielce, ul. Warszawska 108' 'Warszawa, ul. Chroscickiego'\n",
      " 'Lubliniec, ul. ks. Szymaly' 'Pultusk, ul. Mickiewicza'\n",
      " 'Nowy Targ, al. Tysiaclecia' 'Goczalkowice Zdroj, ul. Parkowa'\n",
      " 'Lask, ul. Narutowicza' 'Goluchow, Ujecie Wody' 'Myslenice'\n",
      " 'Nowe Miasto Lubawskie, ul. Dzialynskich'\n",
      " 'Lukow, Bulwar 100-lecia Odzyskania Niepodleglosci'\n",
      " 'Konstancin-Jeziorna, ul. Zeromskiego' 'Krapkowice, ul. 3 Maja'\n",
      " 'Raciborz, Wojska Polskiego' 'Biala, ul. Kmicica'\n",
      " 'Bialystok, ul. 42 Pulku Piechoty' 'Kielce, ul. Targowa'\n",
      " 'Chelm, ul. Polaniecka' 'Trzebnica, ul. 3 Maja' 'Strzegom'\n",
      " 'Ustka, ul. Rybacka' 'Jastrzebie-Zdroj, Al.J.Pilsudskiego/Harcerska'\n",
      " 'Suwalki, ul. Pulaskiego 26' 'Zielona Gora,ul.Wyszynskiego'\n",
      " 'Lwowek Slaski, al. Wojska Polskiego' 'Florianka, RPN'\n",
      " 'Lagow, ul. Zaplotnia' 'Opatow, ul. Partyzantow'\n",
      " 'Bialystok, al.Pilsudskiego' 'Nowa Ruda, ul. Jeziorna'\n",
      " 'Naleczow, al. Malachowskiego' 'Zawiercie, ul. K.I.Galczynskiego'\n",
      " 'Swiecie, al. Jana Pawla II' 'Krasnobrod, ul. Sanatoryjna'\n",
      " 'Wieniec Zdroj, ul. Wieniecka' 'Wejherowo, ul. Dworcowa'\n",
      " 'Oswiecim, ul. J. Bema' 'Sopot, ul. Bitwy Pod Plowcami'\n",
      " 'Cieszyn, ul. Chopina' 'Malogoszcz, ul. Sloneczna'\n",
      " 'Olkusz, ul. Cegielniana' 'Kutno, ul. 1 Maja'\n",
      " 'Swinoujscie, ul. J. Matejki' 'Kielce, ul. Jurajska'\n",
      " 'Ketrzyn, ul. Wojska Polskiego' 'Rzeszow, ul. Starzynskiego'\n",
      " 'Rzeszow, ul. Slocinska' 'Jedlicze, ul. Tokarskich' 'Kepno ul. Sportowa'\n",
      " 'Warszawa, IMiGW' 'Poznan ul. Szwajcarska' 'Mosina, ul. Czeresniowa'\n",
      " 'Brzeg, ul. Poprzeczna' 'Nowa Sol' 'Wadowice, ul. Balysa']\n",
      "['Sanok, ul. Sadowa']\n",
      "[]\n",
      "[]\n",
      "[]\n",
      "['Szczecinek, ul. Przemyslowa' 'Przemysl, ul. Grunwaldzka']\n",
      "['Nisko, ul. Szklarniowa']\n",
      "['Mielec, ul. Biernackiego' 'Mielec, ul. Pogodna']\n",
      "['Krosno, ul. Kletowki']\n",
      "['Jaslo, ul. Sikorskiego']\n",
      "['Jaroslaw, ul. Pruchnicka']\n"
     ]
    }
   ],
   "source": [
    "if VERBOSE:\n",
    "    print(gdf['STATION_NA'].unique())\n",
    "    for city in cities:\n",
    "        print(gdf[gdf['STATION_NA'].str.contains(city)]['STATION_NA'].unique())"
   ]
  },
  {
   "cell_type": "markdown",
   "metadata": {},
   "source": [
    "### Get columns with cities from Podkarpacie"
   ]
  },
  {
   "cell_type": "code",
   "execution_count": 143,
   "metadata": {},
   "outputs": [],
   "source": [
    "columns = [gdf[gdf['STATION_NA'].str.contains(city)]['STATION_NA'].unique() for city in cities] \n",
    "columns = list(itertools.chain.from_iterable(columns))  # flatten the list\n",
    "columns = [column for column in columns if column != 'Szczecinek, ul. Przemyslowa']"
   ]
  },
  {
   "cell_type": "code",
   "execution_count": 144,
   "metadata": {},
   "outputs": [
    {
     "name": "stdout",
     "output_type": "stream",
     "text": [
      "['Tarnobrzeg, ul. Dabrowskiej', 'Sanok, ul. Sadowa', 'Rzeszow, ul. Rejtana', 'Rzeszow, ul. Pilsudskiego', 'Rzeszow, ul. Starzynskiego', 'Rzeszow, ul. Slocinska', 'Rymanow Zdroj, ul. Parkowa', 'Przemysl, ul. Grunwaldzka', 'Nisko, ul. Szklarniowa', 'Mielec, ul. Biernackiego', 'Mielec, ul. Pogodna', 'Krosno, ul. Kletowki', 'Jaslo, ul. Sikorskiego', 'Jaroslaw, ul. Pruchnicka', 'Debica, ul.Grottgera', 'Jedlicze, ul. Tokarskich']\n"
     ]
    }
   ],
   "source": [
    "if VERBOSE:\n",
    "    print(columns)"
   ]
  },
  {
   "cell_type": "markdown",
   "metadata": {},
   "source": [
    "### Create a subset for Podkarpacie"
   ]
  },
  {
   "cell_type": "code",
   "execution_count": 145,
   "metadata": {},
   "outputs": [],
   "source": [
    "gdf_podkarpacie = gdf.loc[gdf['STATION_NA'].isin(columns)]"
   ]
  },
  {
   "cell_type": "markdown",
   "metadata": {},
   "source": [
    "### Drop redundant columns"
   ]
  },
  {
   "cell_type": "code",
   "execution_count": 146,
   "metadata": {},
   "outputs": [],
   "source": [
    "gdf_podkarpacie = gdf_podkarpacie.drop(['INFO', 'STATION_CO', 'ADDRESS'], axis=1)"
   ]
  },
  {
   "cell_type": "code",
   "execution_count": 147,
   "metadata": {},
   "outputs": [
    {
     "name": "stdout",
     "output_type": "stream",
     "text": [
      "                      STATION_NA                   geometry\n",
      "35        Jaslo, ul. Sikorskiego  POINT (21.45462 49.74489)\n",
      "36          Krosno, ul. Kletowki  POINT (21.74970 49.69017)\n",
      "37        Nisko, ul. Szklarniowa  POINT (22.11247 50.52989)\n",
      "121            Sanok, ul. Sadowa  POINT (22.19589 49.57173)\n",
      "122  Tarnobrzeg, ul. Dabrowskiej  POINT (21.68837 50.57574)\n",
      "136     Jaroslaw, ul. Pruchnicka  POINT (22.67477 50.01208)\n",
      "170    Przemysl, ul. Grunwaldzka  POINT (22.75624 49.78434)\n",
      "171         Rzeszow, ul. Rejtana  POINT (22.01058 50.02424)\n",
      "185         Debica, ul.Grottgera  POINT (21.41626 50.05479)\n",
      "188     Mielec, ul. Biernackiego  POINT (21.44094 50.29913)\n",
      "210          Mielec, ul. Pogodna  POINT (21.48637 50.31804)\n",
      "214    Rzeszow, ul. Pilsudskiego  POINT (22.00466 50.04068)\n",
      "216   Rymanow Zdroj, ul. Parkowa  POINT (21.85101 49.54654)\n",
      "277   Rzeszow, ul. Starzynskiego  POINT (21.98051 50.06038)\n",
      "278       Rzeszow, ul. Slocinska  POINT (22.04794 50.02486)\n",
      "279     Jedlicze, ul. Tokarskich  POINT (21.64151 49.71403)\n"
     ]
    }
   ],
   "source": [
    "if VERBOSE:\n",
    "    print(gdf_podkarpacie)"
   ]
  },
  {
   "cell_type": "markdown",
   "metadata": {},
   "source": [
    "## Load voivodeship shapefile"
   ]
  },
  {
   "cell_type": "code",
   "execution_count": 148,
   "metadata": {},
   "outputs": [],
   "source": [
    "shapefile_path = \"wojewodztwa/wojewodztwa.shp\"\n",
    "gdf_woj = gpd.read_file(shapefile_path)"
   ]
  },
  {
   "cell_type": "code",
   "execution_count": 149,
   "metadata": {},
   "outputs": [
    {
     "name": "stdout",
     "output_type": "stream",
     "text": [
      "   gml_id JPT_SJR_KO JPT_POWIER JPT_KOD_JE           JPT_NAZWA_ JPT_ORGAN_  \\\n",
      "0    None        WOJ    2289315         32   zachodniopomorskie       None   \n",
      "1    None        WOJ    1398751         08             lubuskie       None   \n",
      "2    None        WOJ    1994777         02         dolnośląskie       None   \n",
      "3    None        WOJ    2982700         30        wielkopolskie       None   \n",
      "4    None        WOJ    1831001         22            pomorskie       None   \n",
      "5    None        WOJ     941272         16             opolskie       None   \n",
      "6    None        WOJ    1797058         04   kujawsko-pomorskie       None   \n",
      "7    None        WOJ    1233406         24              śląskie       None   \n",
      "8    None        WOJ    1821720         10              łódzkie       None   \n",
      "9    None        WOJ    1518007         12          małopolskie       None   \n",
      "10   None        WOJ    2417419         28  warmińsko-mazurskie       None   \n",
      "11   None        WOJ    3555920         14          mazowieckie       None   \n",
      "12   None        WOJ    1171136         26       świętokrzyskie       None   \n",
      "13   None        WOJ    1784523         18         podkarpackie       None   \n",
      "14   None        WOJ    2018598         20            podlaskie       None   \n",
      "15   None        WOJ    2512291         06            lubelskie       None   \n",
      "\n",
      "   JPT_JOR_ID WERSJA_OD WERSJA_DO  WAZNY_OD  ...   JPT_ID JPT_POWI_1  \\\n",
      "0           0  20220613         0  20120926  ...  1364544          0   \n",
      "1           0  20211210         0  20120926  ...  1361674          0   \n",
      "2           0  20221019         0  20120926  ...  1365817          0   \n",
      "3           0  20220330         0  20120926  ...  1363546    2982700   \n",
      "4           0  20220906         0  20120926  ...  1365552          0   \n",
      "5           0  20221205         0  20120926  ...  1366338          0   \n",
      "6           0  20220330         0  20120926  ...  1363545          0   \n",
      "7           0  20220321         0  20120926  ...  1363466          0   \n",
      "8           0  20211214         0  20120926  ...  1361704          0   \n",
      "9           0  20221206         0  20120926  ...  1366375          0   \n",
      "10          0  20220712         0  20120926  ...  1364843          0   \n",
      "11          0  20220527         0  20120926  ...  1364209          0   \n",
      "12          0  20220321         0  20120926  ...  1363473          0   \n",
      "13          0  20221206         0  20120926  ...  1366391          0   \n",
      "14          0  20220712         0  20120926  ...  1364844          0   \n",
      "15          0  20220608         0  20120926  ...  1364432          0   \n",
      "\n",
      "   JPT_KJ_I_3 JPT_GEOMET JPT_GEOM_1     SHAPE_LENG     SHAPE_AREA  \\\n",
      "0        None          0          0  12.1323542862  3.10794349875   \n",
      "1        None          0          0  11.0914310011  1.83850176383   \n",
      "2        None          0          0   13.846094171  2.55916927233   \n",
      "3        None          0          0  18.4097920287  3.93220020515   \n",
      "4        None          0          0  11.7084107024  2.68945114136   \n",
      "5        None          0          0  9.00556550302  1.19620046778   \n",
      "6        None          0          0  12.3969283997  2.40941372674   \n",
      "7        None          0          0  12.1292325536  1.55733578555   \n",
      "8        None          0          0  12.0791841816  2.36362021645   \n",
      "9        None          0          0  11.4286676945   1.8985108988   \n",
      "10       None          0          0  12.7928354234  3.30080702043   \n",
      "11       None          0          0  20.2186563045  4.68945916026   \n",
      "12       None          0          0  9.25706037306  1.49182348844   \n",
      "13       None          0          0  11.2224322272  2.23569279514   \n",
      "14       None          0          0  11.1025516015  2.71848097121   \n",
      "15       None          0          0  14.1103438788  3.23231208228   \n",
      "\n",
      "             REGON       RODZAJ  \\\n",
      "0   81168387600000  wojewodztwo   \n",
      "1   97789593100000  wojewodztwo   \n",
      "2   93193464400000  wojewodztwo   \n",
      "3   63125781600000  wojewodztwo   \n",
      "4   19167483600000  wojewodztwo   \n",
      "5   53141242100000  wojewodztwo   \n",
      "6   09235061300000  wojewodztwo   \n",
      "7   27625465000000  wojewodztwo   \n",
      "8   47205762600000  wojewodztwo   \n",
      "9   35155428700000  wojewodztwo   \n",
      "10  51074233300000  wojewodztwo   \n",
      "11  01552891000000  wojewodztwo   \n",
      "12  29100933700000  wojewodztwo   \n",
      "13  69058132400000  wojewodztwo   \n",
      "14  05065840400000  wojewodztwo   \n",
      "15  43101917000000  wojewodztwo   \n",
      "\n",
      "                                             geometry  \n",
      "0   POLYGON ((188256.168 683730.875, 189761.898 68...  \n",
      "1   POLYGON ((249058.528 411232.826, 249030.522 41...  \n",
      "2   POLYGON ((351910.997 289041.305, 351818.002 28...  \n",
      "3   POLYGON ((441690.785 515930.957, 441724.727 51...  \n",
      "4   POLYGON ((488665.467 751328.589, 488780.891 75...  \n",
      "5   POLYGON ((410362.990 269639.399, 410366.160 26...  \n",
      "6   POLYGON ((441690.785 515930.957, 441653.937 51...  \n",
      "7   MULTIPOLYGON (((559302.978 302887.587, 559268....  \n",
      "8   POLYGON ((598629.334 417093.448, 598631.826 41...  \n",
      "9   POLYGON ((631316.899 166704.316, 631331.032 16...  \n",
      "10  POLYGON ((583809.837 727413.238, 584377.549 72...  \n",
      "11  POLYGON ((622867.975 604854.016, 622903.960 60...  \n",
      "12  POLYGON ((559302.978 302887.587, 559352.746 30...  \n",
      "13  POLYGON ((819920.700 271467.820, 819598.610 27...  \n",
      "14  POLYGON ((795031.423 692192.565, 794882.820 69...  \n",
      "15  POLYGON ((854896.590 294722.020, 854350.170 29...  \n",
      "\n",
      "[16 rows x 37 columns]\n",
      "['zachodniopomorskie' 'lubuskie' 'dolnośląskie' 'wielkopolskie'\n",
      " 'pomorskie' 'opolskie' 'kujawsko-pomorskie' 'śląskie' 'łódzkie'\n",
      " 'małopolskie' 'warmińsko-mazurskie' 'mazowieckie' 'świętokrzyskie'\n",
      " 'podkarpackie' 'podlaskie' 'lubelskie']\n"
     ]
    }
   ],
   "source": [
    "if VERBOSE:\n",
    "    print(gdf_woj)\n",
    "    print(gdf_woj['JPT_NAZWA_'].unique())"
   ]
  },
  {
   "cell_type": "markdown",
   "metadata": {},
   "source": [
    "### Create a subset with Podkarpacie voivodeship"
   ]
  },
  {
   "cell_type": "code",
   "execution_count": 150,
   "metadata": {},
   "outputs": [],
   "source": [
    "gdf_podkarpacie_woj = gdf_woj.loc[gdf_woj['JPT_NAZWA_'].isin(['podkarpackie'])]"
   ]
  },
  {
   "cell_type": "code",
   "execution_count": 151,
   "metadata": {},
   "outputs": [
    {
     "name": "stdout",
     "output_type": "stream",
     "text": [
      "   gml_id JPT_SJR_KO JPT_POWIER JPT_KOD_JE    JPT_NAZWA_ JPT_ORGAN_  \\\n",
      "13   None        WOJ    1784523         18  podkarpackie       None   \n",
      "\n",
      "   JPT_JOR_ID WERSJA_OD WERSJA_DO  WAZNY_OD  ...   JPT_ID JPT_POWI_1  \\\n",
      "13          0  20221206         0  20120926  ...  1366391          0   \n",
      "\n",
      "   JPT_KJ_I_3 JPT_GEOMET JPT_GEOM_1     SHAPE_LENG     SHAPE_AREA  \\\n",
      "13       None          0          0  11.2224322272  2.23569279514   \n",
      "\n",
      "             REGON       RODZAJ  \\\n",
      "13  69058132400000  wojewodztwo   \n",
      "\n",
      "                                             geometry  \n",
      "13  POLYGON ((819920.700 271467.820, 819598.610 27...  \n",
      "\n",
      "[1 rows x 37 columns]\n"
     ]
    }
   ],
   "source": [
    "if VERBOSE:\n",
    "    print(gdf_podkarpacie_woj)"
   ]
  },
  {
   "cell_type": "markdown",
   "metadata": {},
   "source": [
    "## Plot cities and voivodeship"
   ]
  },
  {
   "cell_type": "code",
   "execution_count": 152,
   "metadata": {},
   "outputs": [
    {
     "data": {
      "text/plain": [
       "<Axes: >"
      ]
     },
     "execution_count": 152,
     "metadata": {},
     "output_type": "execute_result"
    },
    {
     "data": {
      "image/png": "[encoded data removed]",
      "text/plain": [
       "<Figure size 640x480 with 1 Axes>"
      ]
     },
     "metadata": {},
     "output_type": "display_data"
    },
    {
     "data": {
      "image/png": "[encoded data removed]",
      "text/plain": [
       "<Figure size 640x480 with 1 Axes>"
      ]
     },
     "metadata": {},
     "output_type": "display_data"
    }
   ],
   "source": [
    "gdf_podkarpacie_woj.plot()\n",
    "gdf_podkarpacie.plot()"
   ]
  },
  {
   "cell_type": "markdown",
   "metadata": {},
   "source": [
    "Since cities and voivodeship we will focus on cities only"
   ]
  },
  {
   "cell_type": "markdown",
   "metadata": {},
   "source": [
    "## Prepare data for interpolation"
   ]
  },
  {
   "cell_type": "markdown",
   "metadata": {},
   "source": [
    "### Get addresses from Podkarpacie GDF and cities from PM10 DF"
   ]
  },
  {
   "cell_type": "code",
   "execution_count": 153,
   "metadata": {},
   "outputs": [],
   "source": [
    "addresses = gdf_podkarpacie['STATION_NA'].unique()\n",
    "cities = pm10_df.columns[1:]"
   ]
  },
  {
   "cell_type": "markdown",
   "metadata": {},
   "source": [
    "### Unify `STATION_NA` values to match PM10 cities"
   ]
  },
  {
   "cell_type": "markdown",
   "metadata": {},
   "source": [
    "First match the cities"
   ]
  },
  {
   "cell_type": "code",
   "execution_count": 154,
   "metadata": {},
   "outputs": [
    {
     "name": "stdout",
     "output_type": "stream",
     "text": [
      "                      STATION_NA                   geometry\n",
      "35                         Jaslo  POINT (21.45462 49.74489)\n",
      "36                        Krosno  POINT (21.74970 49.69017)\n",
      "37                         Nisko  POINT (22.11247 50.52989)\n",
      "121                        Sanok  POINT (22.19589 49.57173)\n",
      "122  Tarnobrzeg, ul. Dabrowskiej  POINT (21.68837 50.57574)\n",
      "136                     Jaroslaw  POINT (22.67477 50.01208)\n",
      "170                     Przemysl  POINT (22.75624 49.78434)\n",
      "171         Rzeszow, ul. Rejtana  POINT (22.01058 50.02424)\n",
      "185         Debica, ul.Grottgera  POINT (21.41626 50.05479)\n",
      "188                       Mielec  POINT (21.44094 50.29913)\n",
      "210                       Mielec  POINT (21.48637 50.31804)\n",
      "214    Rzeszow, ul. Pilsudskiego  POINT (22.00466 50.04068)\n",
      "216   Rymanow Zdroj, ul. Parkowa  POINT (21.85101 49.54654)\n",
      "277   Rzeszow, ul. Starzynskiego  POINT (21.98051 50.06038)\n",
      "278       Rzeszow, ul. Slocinska  POINT (22.04794 50.02486)\n",
      "279     Jedlicze, ul. Tokarskich  POINT (21.64151 49.71403)\n"
     ]
    }
   ],
   "source": [
    "gdf_podkarpacie_cities = gdf_podkarpacie.copy()\n",
    "\n",
    "for address in addresses:\n",
    "    matched_city = next((city for city in cities if city.split('_')[0] in address), None)\n",
    "    if not matched_city or len(matched_city.split('_')) > 1:\n",
    "        continue\n",
    "    \n",
    "    gdf_podkarpacie_cities.loc[gdf_podkarpacie_cities['STATION_NA'] == address, 'STATION_NA'] = matched_city\n",
    "\n",
    "if VERBOSE:\n",
    "    print(gdf_podkarpacie_cities)"
   ]
  },
  {
   "cell_type": "markdown",
   "metadata": {},
   "source": [
    "Secondly match the street (i.e. `Rzeszow, ul. Rejtana` == `Rzeszow_Rejtana`)"
   ]
  },
  {
   "cell_type": "code",
   "execution_count": 155,
   "metadata": {},
   "outputs": [
    {
     "name": "stdout",
     "output_type": "stream",
     "text": [
      "                      STATION_NA                   geometry\n",
      "35                         Jaslo  POINT (21.45462 49.74489)\n",
      "36                        Krosno  POINT (21.74970 49.69017)\n",
      "37                         Nisko  POINT (22.11247 50.52989)\n",
      "121                        Sanok  POINT (22.19589 49.57173)\n",
      "122  Tarnobrzeg, ul. Dabrowskiej  POINT (21.68837 50.57574)\n",
      "136                     Jaroslaw  POINT (22.67477 50.01208)\n",
      "170                     Przemysl  POINT (22.75624 49.78434)\n",
      "171              Rzeszow_Rejtana  POINT (22.01058 50.02424)\n",
      "185         Debica, ul.Grottgera  POINT (21.41626 50.05479)\n",
      "188                       Mielec  POINT (21.44094 50.29913)\n",
      "210                       Mielec  POINT (21.48637 50.31804)\n",
      "214         Rzeszow_Pilsudskiego  POINT (22.00466 50.04068)\n",
      "216                Rymanow_Zdroj  POINT (21.85101 49.54654)\n",
      "277   Rzeszow, ul. Starzynskiego  POINT (21.98051 50.06038)\n",
      "278       Rzeszow, ul. Slocinska  POINT (22.04794 50.02486)\n",
      "279     Jedlicze, ul. Tokarskich  POINT (21.64151 49.71403)\n"
     ]
    }
   ],
   "source": [
    "for address in addresses:\n",
    "    matched_city = next((city for city in cities if city.split('_')[-1] in address), None)\n",
    "    if not matched_city:\n",
    "        continue\n",
    "    \n",
    "    gdf_podkarpacie_cities.loc[gdf_podkarpacie_cities['STATION_NA'] == address, 'STATION_NA'] = matched_city\n",
    "\n",
    "if VERBOSE:\n",
    "    print(gdf_podkarpacie_cities)"
   ]
  },
  {
   "cell_type": "markdown",
   "metadata": {},
   "source": [
    "### Drop unmatched columns and duplicates"
   ]
  },
  {
   "cell_type": "code",
   "execution_count": 156,
   "metadata": {},
   "outputs": [],
   "source": [
    "for city in gdf_podkarpacie_cities['STATION_NA']:\n",
    "    if \",\" in city:\n",
    "        gdf_podkarpacie_cities = gdf_podkarpacie_cities.drop(gdf_podkarpacie_cities[gdf_podkarpacie_cities['STATION_NA'] == city].index)\n",
    "\n",
    "gdf_podkarpacie_cities = gdf_podkarpacie_cities.drop_duplicates(subset=['STATION_NA'])"
   ]
  },
  {
   "cell_type": "code",
   "execution_count": 157,
   "metadata": {},
   "outputs": [
    {
     "name": "stdout",
     "output_type": "stream",
     "text": [
      "               STATION_NA                   geometry\n",
      "35                  Jaslo  POINT (21.45462 49.74489)\n",
      "36                 Krosno  POINT (21.74970 49.69017)\n",
      "37                  Nisko  POINT (22.11247 50.52989)\n",
      "121                 Sanok  POINT (22.19589 49.57173)\n",
      "136              Jaroslaw  POINT (22.67477 50.01208)\n",
      "170              Przemysl  POINT (22.75624 49.78434)\n",
      "171       Rzeszow_Rejtana  POINT (22.01058 50.02424)\n",
      "188                Mielec  POINT (21.44094 50.29913)\n",
      "214  Rzeszow_Pilsudskiego  POINT (22.00466 50.04068)\n",
      "216         Rymanow_Zdroj  POINT (21.85101 49.54654)\n"
     ]
    }
   ],
   "source": [
    "if VERBOSE:\n",
    "    print(gdf_podkarpacie_cities)"
   ]
  },
  {
   "cell_type": "markdown",
   "metadata": {},
   "source": [
    "## Create Variogram"
   ]
  },
  {
   "cell_type": "code",
   "execution_count": 184,
   "metadata": {},
   "outputs": [
    {
     "name": "stderr",
     "output_type": "stream",
     "text": [
      "/home/student/.conda/envs/proc-stoc/lib/python3.11/site-packages/skgstat/plotting/variogram_plot.py:123: UserWarning: Matplotlib is currently using module://matplotlib_inline.backend_inline, which is a non-GUI backend, so cannot show the figure.\n",
      "  fig.show()\n"
     ]
    },
    {
     "data": {
      "image/png": "[encoded data removed]",
      "text/plain": [
       "<Figure size 800x500 with 2 Axes>"
      ]
     },
     "metadata": {},
     "output_type": "display_data"
    }
   ],
   "source": [
    "for _, row in pm10_df.iterrows():\n",
    "    row.name = \"contamination\"\n",
    "    data = gdf_podkarpacie_cities.join(row, on='STATION_NA')\n",
    "    \n",
    "    coordinates = data['geometry'].apply(lambda p: (p.x, p.y)).tolist()\n",
    "    values = list(map(float, data['contamination'].tolist()))\n",
    "\n",
    "    V = Variogram(coordinates, values, model='spherical', maxlag=20, n_lags=10)\n",
    "\n",
    "    fig = V.plot()\n",
    "    plt.show()\n",
    "    break"
   ]
  },
  {
   "cell_type": "markdown",
   "metadata": {},
   "source": [
    "## Ordinary Kriging"
   ]
  },
  {
   "cell_type": "code",
   "execution_count": 185,
   "metadata": {},
   "outputs": [],
   "source": [
    "def interpolate(V, ax, max_x, max_y, min_x, min_y):\n",
    "    xx, yy = np.mgrid[min_x:max_x:100j, min_y:max_y:100j]\n",
    "    ok = skg.OrdinaryKriging(V, min_points=5, max_points=15, mode='exact')\n",
    "    field = ok.transform(xx.flatten(), yy.flatten()).reshape(xx.shape)\n",
    "    art = ax.matshow(field, origin='lower', cmap='plasma', vmin=V.values.min(), vmax=V.values.max())\n",
    "    ax.set_title('%s model' % V.model.__name__)\n",
    "    plt.colorbar(art, ax=ax)\n",
    "    return field"
   ]
  },
  {
   "cell_type": "markdown",
   "metadata": {},
   "source": [
    "### Set max and min values for interpolation meshgrid"
   ]
  },
  {
   "cell_type": "code",
   "execution_count": 186,
   "metadata": {},
   "outputs": [],
   "source": [
    "max_x = max(point.x for point in gdf_podkarpacie_cities['geometry'])\n",
    "max_y = max(point.y for point in gdf_podkarpacie_cities['geometry'])\n",
    "min_x = min(point.x for point in gdf_podkarpacie_cities['geometry'])\n",
    "min_y = min(point.y for point in gdf_podkarpacie_cities['geometry'])"
   ]
  },
  {
   "cell_type": "markdown",
   "metadata": {},
   "source": [
    "### Plot interpolation"
   ]
  },
  {
   "cell_type": "code",
   "execution_count": 187,
   "metadata": {},
   "outputs": [
    {
     "name": "stdout",
     "output_type": "stream",
     "text": [
      "Warning: for 7104 locations, not enough neighbors were found within the range.\n"
     ]
    },
    {
     "data": {
      "image/png": "[encoded data removed]",
      "text/plain": [
       "<Figure size 1200x1000 with 2 Axes>"
      ]
     },
     "metadata": {},
     "output_type": "display_data"
    }
   ],
   "source": [
    "fields = []\n",
    "fig, _a = plt.subplots(1,1, figsize=(12, 10), sharex=True, sharey=True)\n",
    "axes = _a\n",
    "fields.append(interpolate(V, axes, max_x, max_y, min_x, min_y))\n",
    "# axes.plot(gdf_podkarpacie_cities['geometry'].x, gdf_podkarpacie_cities['geometry'].y, 'k.')"
   ]
  },
  {
   "cell_type": "code",
   "execution_count": null,
   "metadata": {},
   "outputs": [],
   "source": []
  },
  {
   "cell_type": "code",
   "execution_count": null,
   "metadata": {},
   "outputs": [],
   "source": []
  }
 ],
 "metadata": {
  "kernelspec": {
   "display_name": "proc-stoc",
   "language": "python",
   "name": "python3"
  },
  "language_info": {
   "codemirror_mode": {
    "name": "ipython",
    "version": 3
   },
   "file_extension": ".py",
   "mimetype": "text/x-python",
   "name": "python",
   "nbconvert_exporter": "python",
   "pygments_lexer": "ipython3",
   "version": "3.11.5"
  }
 },
 "nbformat": 4,
 "nbformat_minor": 2
}
